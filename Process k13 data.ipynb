{
 "cells": [
  {
   "cell_type": "markdown",
   "metadata": {},
   "source": [
    "## import pandas"
   ]
  },
  {
   "cell_type": "code",
   "execution_count": 1,
   "metadata": {
    "collapsed": true
   },
   "outputs": [],
   "source": [
    "import pandas as pd\n",
    "import numpy as np\n",
    "import matplotlib.pyplot as plt\n",
    "%matplotlib inline"
   ]
  },
  {
   "cell_type": "markdown",
   "metadata": {},
   "source": [
    "## Load the k13 data in into a pandas dataframe"
   ]
  },
  {
   "cell_type": "code",
   "execution_count": 2,
   "metadata": {
    "collapsed": false
   },
   "outputs": [],
   "source": [
    "k13 = pd.read_excel('data/k13 surveyor data 02.xls')"
   ]
  },
  {
   "cell_type": "code",
   "execution_count": 3,
   "metadata": {
    "collapsed": false
   },
   "outputs": [
    {
     "data": {
      "text/html": [
       "<div>\n",
       "<table border=\"1\" class=\"dataframe\">\n",
       "  <thead>\n",
       "    <tr style=\"text-align: right;\">\n",
       "      <th></th>\n",
       "      <th>study id</th>\n",
       "      <th>site</th>\n",
       "      <th>mutation</th>\n",
       "      <th>present</th>\n",
       "      <th>tested</th>\n",
       "      <th>country</th>\n",
       "      <th>continent</th>\n",
       "      <th>lon</th>\n",
       "      <th>lat</th>\n",
       "      <th>year</th>\n",
       "      <th>title</th>\n",
       "      <th>authors</th>\n",
       "      <th>pubMedId</th>\n",
       "      <th>val</th>\n",
       "      <th>estLoc</th>\n",
       "    </tr>\n",
       "  </thead>\n",
       "  <tbody>\n",
       "    <tr>\n",
       "      <th>0</th>\n",
       "      <td>PSHHG</td>\n",
       "      <td>Chin State</td>\n",
       "      <td>wildtype</td>\n",
       "      <td>60</td>\n",
       "      <td>62</td>\n",
       "      <td>Myanmar</td>\n",
       "      <td>Asia</td>\n",
       "      <td>92.848000</td>\n",
       "      <td>21.300000</td>\n",
       "      <td>2014</td>\n",
       "      <td>Spread of artemisinin-resistant Plasmodium fa...</td>\n",
       "      <td>Tun KM, Imwong M, Lwin KM, Win AA, Hlaing TM, ...</td>\n",
       "      <td>25704894</td>\n",
       "      <td>False</td>\n",
       "      <td>0</td>\n",
       "    </tr>\n",
       "    <tr>\n",
       "      <th>1</th>\n",
       "      <td>PSHHG</td>\n",
       "      <td>Chin State</td>\n",
       "      <td>P574L</td>\n",
       "      <td>2</td>\n",
       "      <td>62</td>\n",
       "      <td>Myanmar</td>\n",
       "      <td>Asia</td>\n",
       "      <td>92.848000</td>\n",
       "      <td>21.300000</td>\n",
       "      <td>2014</td>\n",
       "      <td>Spread of artemisinin-resistant Plasmodium fa...</td>\n",
       "      <td>Tun KM, Imwong M, Lwin KM, Win AA, Hlaing TM, ...</td>\n",
       "      <td>25704894</td>\n",
       "      <td>True</td>\n",
       "      <td>0</td>\n",
       "    </tr>\n",
       "    <tr>\n",
       "      <th>2</th>\n",
       "      <td>PSHHG</td>\n",
       "      <td>Kachin State</td>\n",
       "      <td>wildtype</td>\n",
       "      <td>19</td>\n",
       "      <td>30</td>\n",
       "      <td>Myanmar</td>\n",
       "      <td>Asia</td>\n",
       "      <td>97.391632</td>\n",
       "      <td>25.371031</td>\n",
       "      <td>2013</td>\n",
       "      <td>Spread of artemisinin-resistant Plasmodium fa...</td>\n",
       "      <td>Tun KM, Imwong M, Lwin KM, Win AA, Hlaing TM, ...</td>\n",
       "      <td>25704894</td>\n",
       "      <td>False</td>\n",
       "      <td>0</td>\n",
       "    </tr>\n",
       "  </tbody>\n",
       "</table>\n",
       "</div>"
      ],
      "text/plain": [
       "  study id          site  mutation  present  tested  country continent  \\\n",
       "0    PSHHG    Chin State  wildtype       60      62  Myanmar      Asia   \n",
       "1    PSHHG    Chin State     P574L        2      62  Myanmar      Asia   \n",
       "2    PSHHG  Kachin State  wildtype       19      30  Myanmar      Asia   \n",
       "\n",
       "         lon        lat  year  \\\n",
       "0  92.848000  21.300000  2014   \n",
       "1  92.848000  21.300000  2014   \n",
       "2  97.391632  25.371031  2013   \n",
       "\n",
       "                                               title  \\\n",
       "0   Spread of artemisinin-resistant Plasmodium fa...   \n",
       "1   Spread of artemisinin-resistant Plasmodium fa...   \n",
       "2   Spread of artemisinin-resistant Plasmodium fa...   \n",
       "\n",
       "                                             authors  pubMedId    val  estLoc  \n",
       "0  Tun KM, Imwong M, Lwin KM, Win AA, Hlaing TM, ...  25704894  False       0  \n",
       "1  Tun KM, Imwong M, Lwin KM, Win AA, Hlaing TM, ...  25704894   True       0  \n",
       "2  Tun KM, Imwong M, Lwin KM, Win AA, Hlaing TM, ...  25704894  False       0  "
      ]
     },
     "execution_count": 3,
     "metadata": {},
     "output_type": "execute_result"
    }
   ],
   "source": [
    "## Show just the header and the top three rows\n",
    "k13.head(3)"
   ]
  },
  {
   "cell_type": "code",
   "execution_count": 4,
   "metadata": {
    "collapsed": false
   },
   "outputs": [
    {
     "name": "stdout",
     "output_type": "stream",
     "text": [
      "There are 1038 rows\n"
     ]
    }
   ],
   "source": [
    "print \"There are\", len(k13), \"rows\""
   ]
  },
  {
   "cell_type": "code",
   "execution_count": 5,
   "metadata": {
    "collapsed": false
   },
   "outputs": [
    {
     "name": "stdout",
     "output_type": "stream",
     "text": [
      "The complete list of countries is: \n",
      "\n",
      "Myanmar, Bangladesh, Thailand, Lao People's Democratic Republic, Viet Nam, Nigeria, India, Democratic Republic of the Congo, Cambodia, Kenya, Mali, Gambia, Ghana, Burkina Faso, Uganda, Malawi, Tanzania, Côte d'Ivoire, Gabon, Senegal, Angola, China, Ethiopia, Guyana, Comoros, Eritrea, Equatorial Guinea, Afghanistan, Benin, Guinea, Guinea-Bissau, Liberia, Mauritania, Niger, Sierra Leone, Cameroon, Togo, Chad, Congo, Burundi, Rwanda, Sudan, Somalia, South Sudan, Mozambique, South Africa, Zambia, Zimbabwe, Madagascar, Iran, Nepal, Indonesia, Philippines, Papua New Guinea, Solomon Islands, Colombia, Ecuador, Venezuela, French Guiana, Peru\n"
     ]
    }
   ],
   "source": [
    "print \"The complete list of countries is: \\n\\n\", ', '.join(k13['country'].unique().tolist())\n"
   ]
  },
  {
   "cell_type": "markdown",
   "metadata": {},
   "source": [
    "### Seperate Myanmar, Thailand, Cambodia, Laos and Vietnam"
   ]
  },
  {
   "cell_type": "code",
   "execution_count": 6,
   "metadata": {
    "collapsed": true
   },
   "outputs": [],
   "source": [
    "k13_countries = k13[\n",
    "    (k13.country == 'Myanmar') \n",
    "    | (k13.country == 'Thailand') \n",
    "    | (k13.country == 'Cambodia') \n",
    "    | (k13.country == \"Lao People's Democratic Republic\") \n",
    "    | (k13.country == 'Viet Nam')\n",
    "].copy()"
   ]
  },
  {
   "cell_type": "code",
   "execution_count": 7,
   "metadata": {
    "collapsed": false
   },
   "outputs": [
    {
     "name": "stdout",
     "output_type": "stream",
     "text": [
      "There are now 608 rows\n"
     ]
    }
   ],
   "source": [
    "print \"There are now\", len(k13_countries), \"rows\""
   ]
  },
  {
   "cell_type": "code",
   "execution_count": 8,
   "metadata": {
    "collapsed": false
   },
   "outputs": [
    {
     "name": "stdout",
     "output_type": "stream",
     "text": [
      "The list of countries is now: \n",
      "\n",
      "Myanmar, Thailand, Lao People's Democratic Republic, Viet Nam, Cambodia\n"
     ]
    }
   ],
   "source": [
    "print \"The list of countries is now: \\n\\n\", \", \".join(k13_countries['country'].unique().tolist())"
   ]
  },
  {
   "cell_type": "markdown",
   "metadata": {},
   "source": [
    "### Get only the true values\n",
    "\n",
    "Remove any row where val = False"
   ]
  },
  {
   "cell_type": "code",
   "execution_count": 9,
   "metadata": {
    "collapsed": false
   },
   "outputs": [],
   "source": [
    "k13_countries_val = k13_countries[ k13_countries['val'] == True ].copy()"
   ]
  },
  {
   "cell_type": "code",
   "execution_count": 10,
   "metadata": {
    "collapsed": false
   },
   "outputs": [
    {
     "name": "stdout",
     "output_type": "stream",
     "text": [
      "There are now 337 rows\n"
     ]
    }
   ],
   "source": [
    "print \"There are now\", len(k13_countries_val), \"rows\""
   ]
  },
  {
   "cell_type": "markdown",
   "metadata": {},
   "source": [
    "### Include only the validated mutations\n",
    "\n",
    "Remove any rows where the mutation is not N458Y, R539T, I543T or C580Y\n",
    "\n",
    "From [WHO pdf](http://apps.who.int/iris/bitstream/handle/10665/255213/WHO-HTM-GMP-2017.9-eng.pdf)\n",
    "\n",
    "| K13 MUTATION \t| CLASSIFICATION\t|\n",
    "|---------------|-------------------|\n",
    "| E252Q \t\t| Not associated\t|\n",
    "| P441L \t\t| Candidate\t\t\t|\n",
    "| F446I \t\t| Candidate\t\t\t|\n",
    "| G449A \t\t| Candidate\t\t\t|\n",
    "| N458Y \t\t| **Validated**\t\t|\n",
    "| Y493H \t\t| **Validated**\t\t|\n",
    "| G538V \t\t| Candidate\t\t\t|\n",
    "| R539T \t\t| **Validated**\t\t|\n",
    "| I543T \t\t| **Validated**\t\t|\n",
    "| P553L \t\t| Candidate\t\t\t|\n",
    "| R561H \t\t| Candidate\t\t\t|\n",
    "| V568G \t\t| Candidate\t\t\t|\n",
    "| P574L \t\t| Candidate\t\t\t|\n",
    "| A578S \t\t| Not associated\t|\n",
    "| C580Y \t\t| **Validated**\t\t|\n",
    "| A675V \t\t| Candidate\t\t\t|\n"
   ]
  },
  {
   "cell_type": "code",
   "execution_count": 11,
   "metadata": {
    "collapsed": false
   },
   "outputs": [
    {
     "name": "stdout",
     "output_type": "stream",
     "text": [
      "The complete list of mutations is: \n",
      "A481V, \n",
      "A675V, \n",
      "C580C/Y, \n",
      "C580Y, \n",
      "D584V, \n",
      "E252Q, \n",
      "F446I, \n",
      "F614L, \n",
      "G449A/D, \n",
      "G538V, \n",
      "H719N, \n",
      "I543T, \n",
      "M476I, \n",
      "N458Y, \n",
      "N525D, \n",
      "N537I, \n",
      "P441L, \n",
      "P553L, \n",
      "P574L, \n",
      "R539R/T, \n",
      "R539T, \n",
      "R561H/C, \n",
      "V568G\n"
     ]
    }
   ],
   "source": [
    "listOfMutations = k13_countries_val.mutation.unique().tolist()\n",
    "listOfMutations.sort()\n",
    "\n",
    "print \"The complete list of mutations is: \\n\", \", \\n\".join(listOfMutations)"
   ]
  },
  {
   "cell_type": "markdown",
   "metadata": {},
   "source": [
    "Note: Y493H and A578S are not present in the list of mutations "
   ]
  },
  {
   "cell_type": "code",
   "execution_count": 12,
   "metadata": {
    "collapsed": true
   },
   "outputs": [],
   "source": [
    "## Create a function to classify the mutations\n",
    "def classifyMutation (mutation) :\n",
    "    if mutation == \"E252Q\" :\n",
    "        return \"Not associated\"\n",
    "    if mutation == \"P441L\" :\n",
    "        return \"Candidate\"\n",
    "    if mutation == \"F446I\" :\n",
    "        return \"Candidate\"\n",
    "    if mutation == \"G449A/D\" :\n",
    "        return \"Candidate\"\n",
    "    if mutation == \"N458Y\" :\n",
    "        return \"Validated\"\n",
    "    if mutation == \"G538V\" :\n",
    "        return \"Candidate\"\n",
    "    if mutation == \"R539T\" :\n",
    "        return \"Validated\"\n",
    "    if mutation == \"R539R/T\" :\n",
    "        return \"Validated\"\n",
    "    if mutation == \"I543T\" :\n",
    "        return \"Validated\"\n",
    "    if mutation == \"P553L\" :\n",
    "        return \"Candidate\"\n",
    "    if mutation == \"R561H/C\" :\n",
    "        return \"Candidate\"\n",
    "    if mutation == \"V568G\" :\n",
    "        return \"Candidate\"\n",
    "    if mutation == \"P574L\" :\n",
    "        return \"Candidate\"\n",
    "    if mutation == \"C580Y\" :\n",
    "        return \"Validated\"\n",
    "    if mutation == \"C580C/Y\" :\n",
    "        return \"Validated\"\n",
    "    if mutation == \"A675V\" :\n",
    "        return \"Candidate\"\n",
    "    return \"Not associated\"\n"
   ]
  },
  {
   "cell_type": "code",
   "execution_count": 13,
   "metadata": {
    "collapsed": false
   },
   "outputs": [],
   "source": [
    "## Add a new column with the classification\n",
    "k13_countries_val.loc[:,\"classification\"] = k13_countries_val.loc[:,\"mutation\"].apply(classifyMutation)"
   ]
  },
  {
   "cell_type": "code",
   "execution_count": 14,
   "metadata": {
    "collapsed": false
   },
   "outputs": [],
   "source": [
    "## Keep only the validated AND candidate mutations\n",
    "k13_countries_val_mutations = k13_countries_val[ k13_countries_val.classification != \"Not associated\" ]"
   ]
  },
  {
   "cell_type": "code",
   "execution_count": 15,
   "metadata": {
    "collapsed": false
   },
   "outputs": [
    {
     "name": "stdout",
     "output_type": "stream",
     "text": [
      "The list of mutations is now: \n",
      "\n"
     ]
    },
    {
     "data": {
      "text/html": [
       "<div>\n",
       "<table border=\"1\" class=\"dataframe\">\n",
       "  <thead>\n",
       "    <tr style=\"text-align: right;\">\n",
       "      <th></th>\n",
       "      <th>mutation</th>\n",
       "      <th>classification</th>\n",
       "    </tr>\n",
       "  </thead>\n",
       "  <tbody>\n",
       "    <tr>\n",
       "      <th>0</th>\n",
       "      <td>A675V</td>\n",
       "      <td>Candidate</td>\n",
       "    </tr>\n",
       "    <tr>\n",
       "      <th>1</th>\n",
       "      <td>C580C/Y</td>\n",
       "      <td>Validated</td>\n",
       "    </tr>\n",
       "    <tr>\n",
       "      <th>2</th>\n",
       "      <td>C580Y</td>\n",
       "      <td>Validated</td>\n",
       "    </tr>\n",
       "    <tr>\n",
       "      <th>3</th>\n",
       "      <td>F446I</td>\n",
       "      <td>Candidate</td>\n",
       "    </tr>\n",
       "    <tr>\n",
       "      <th>4</th>\n",
       "      <td>G449A/D</td>\n",
       "      <td>Candidate</td>\n",
       "    </tr>\n",
       "    <tr>\n",
       "      <th>5</th>\n",
       "      <td>G538V</td>\n",
       "      <td>Candidate</td>\n",
       "    </tr>\n",
       "    <tr>\n",
       "      <th>6</th>\n",
       "      <td>I543T</td>\n",
       "      <td>Validated</td>\n",
       "    </tr>\n",
       "    <tr>\n",
       "      <th>7</th>\n",
       "      <td>N458Y</td>\n",
       "      <td>Validated</td>\n",
       "    </tr>\n",
       "    <tr>\n",
       "      <th>8</th>\n",
       "      <td>P441L</td>\n",
       "      <td>Candidate</td>\n",
       "    </tr>\n",
       "    <tr>\n",
       "      <th>9</th>\n",
       "      <td>P553L</td>\n",
       "      <td>Candidate</td>\n",
       "    </tr>\n",
       "    <tr>\n",
       "      <th>10</th>\n",
       "      <td>P574L</td>\n",
       "      <td>Candidate</td>\n",
       "    </tr>\n",
       "    <tr>\n",
       "      <th>11</th>\n",
       "      <td>R539R/T</td>\n",
       "      <td>Validated</td>\n",
       "    </tr>\n",
       "    <tr>\n",
       "      <th>12</th>\n",
       "      <td>R539T</td>\n",
       "      <td>Validated</td>\n",
       "    </tr>\n",
       "    <tr>\n",
       "      <th>13</th>\n",
       "      <td>R561H/C</td>\n",
       "      <td>Candidate</td>\n",
       "    </tr>\n",
       "    <tr>\n",
       "      <th>14</th>\n",
       "      <td>V568G</td>\n",
       "      <td>Candidate</td>\n",
       "    </tr>\n",
       "  </tbody>\n",
       "</table>\n",
       "</div>"
      ],
      "text/plain": [
       "   mutation classification\n",
       "0     A675V      Candidate\n",
       "1   C580C/Y      Validated\n",
       "2     C580Y      Validated\n",
       "3     F446I      Candidate\n",
       "4   G449A/D      Candidate\n",
       "5     G538V      Candidate\n",
       "6     I543T      Validated\n",
       "7     N458Y      Validated\n",
       "8     P441L      Candidate\n",
       "9     P553L      Candidate\n",
       "10    P574L      Candidate\n",
       "11  R539R/T      Validated\n",
       "12    R539T      Validated\n",
       "13  R561H/C      Candidate\n",
       "14    V568G      Candidate"
      ]
     },
     "execution_count": 15,
     "metadata": {},
     "output_type": "execute_result"
    }
   ],
   "source": [
    "filteredMutations = k13_countries_val_mutations.mutation.unique().tolist()\n",
    "filteredMutations.sort()\n",
    "mutations_df = pd.DataFrame({\"mutation\":filteredMutations})\n",
    "mutations_df[\"classification\"] = mutations_df[\"mutation\"].apply(classifyMutation)\n",
    "\n",
    "print \"The list of mutations is now: \\n\"\n",
    "mutations_df"
   ]
  },
  {
   "cell_type": "code",
   "execution_count": 16,
   "metadata": {
    "collapsed": false
   },
   "outputs": [
    {
     "name": "stdout",
     "output_type": "stream",
     "text": [
      "There are now 291 rows\n"
     ]
    }
   ],
   "source": [
    "print \"There are now\", len(k13_countries_val_mutations), \"rows\""
   ]
  },
  {
   "cell_type": "markdown",
   "metadata": {},
   "source": [
    "### Exclude sample size less than 20"
   ]
  },
  {
   "cell_type": "code",
   "execution_count": 17,
   "metadata": {
    "collapsed": true
   },
   "outputs": [],
   "source": [
    "## Keep only the rows where tested >= 20\n",
    "k13_countries_val_mutations_size = k13_countries_val_mutations[\n",
    "    k13_countries_val_mutations.tested >= 20 \n",
    "]"
   ]
  },
  {
   "cell_type": "code",
   "execution_count": 18,
   "metadata": {
    "collapsed": false
   },
   "outputs": [
    {
     "name": "stdout",
     "output_type": "stream",
     "text": [
      "There are now 235 rows\n"
     ]
    }
   ],
   "source": [
    "print \"There are now\", len(k13_countries_val_mutations_size), \"rows\""
   ]
  },
  {
   "cell_type": "code",
   "execution_count": 19,
   "metadata": {
    "collapsed": false
   },
   "outputs": [
    {
     "data": {
      "text/plain": [
       "count    235.000000\n",
       "mean      94.289362\n",
       "std      113.665319\n",
       "min       27.000000\n",
       "25%       43.000000\n",
       "50%       67.000000\n",
       "75%      107.000000\n",
       "max      882.000000\n",
       "Name: tested, dtype: float64"
      ]
     },
     "execution_count": 19,
     "metadata": {},
     "output_type": "execute_result"
    }
   ],
   "source": [
    "## Confirm that the minimum tested size is greater than or equal to 20\n",
    "k13_countries_val_mutations_size.tested.describe()"
   ]
  },
  {
   "cell_type": "markdown",
   "metadata": {},
   "source": [
    "### Exclue prevalence less than 5%\n",
    "\n",
    "Prevalence is present / tested"
   ]
  },
  {
   "cell_type": "code",
   "execution_count": 20,
   "metadata": {
    "collapsed": false
   },
   "outputs": [],
   "source": [
    "k13_countries_val_mutations_size_prevalence = k13_countries_val_mutations_size[\n",
    "    (k13_countries_val_mutations_size.present / k13_countries_val_mutations_size.tested) >= 0.05\n",
    "]"
   ]
  },
  {
   "cell_type": "code",
   "execution_count": 21,
   "metadata": {
    "collapsed": false
   },
   "outputs": [
    {
     "name": "stdout",
     "output_type": "stream",
     "text": [
      "There are now 120 rows\n"
     ]
    }
   ],
   "source": [
    "print \"There are now\", len(k13_countries_val_mutations_size_prevalence), \"rows\""
   ]
  },
  {
   "cell_type": "code",
   "execution_count": 22,
   "metadata": {
    "collapsed": true
   },
   "outputs": [],
   "source": [
    "## Check that the minimum prevalence is greater or equal to 5%\n",
    "k13_prevalence = (k13_countries_val_mutations_size_prevalence.loc[:,\"present\"] / k13_countries_val_mutations_size_prevalence.loc[:,\"tested\"])* 100"
   ]
  },
  {
   "cell_type": "code",
   "execution_count": 23,
   "metadata": {
    "collapsed": false
   },
   "outputs": [
    {
     "data": {
      "text/plain": [
       "count    120.000000\n",
       "mean      22.490639\n",
       "std       21.591921\n",
       "min        5.000000\n",
       "25%        7.607466\n",
       "50%       12.500000\n",
       "75%       26.707317\n",
       "max       88.095238\n",
       "dtype: float64"
      ]
     },
     "execution_count": 23,
     "metadata": {},
     "output_type": "execute_result"
    }
   ],
   "source": [
    "k13_prevalence.describe()"
   ]
  },
  {
   "cell_type": "code",
   "execution_count": null,
   "metadata": {
    "collapsed": true
   },
   "outputs": [],
   "source": []
  },
  {
   "cell_type": "code",
   "execution_count": 26,
   "metadata": {
    "collapsed": false
   },
   "outputs": [],
   "source": [
    "reduced = k13_countries_val_mutations_size_prevalence[[\"lon\",\"lat\",\"year\",\"pubMedId\"]].copy()"
   ]
  },
  {
   "cell_type": "code",
   "execution_count": 29,
   "metadata": {
    "collapsed": false
   },
   "outputs": [
    {
     "data": {
      "text/html": [
       "<div>\n",
       "<table border=\"1\" class=\"dataframe\">\n",
       "  <thead>\n",
       "    <tr style=\"text-align: right;\">\n",
       "      <th></th>\n",
       "      <th>lon</th>\n",
       "      <th>lat</th>\n",
       "      <th>year</th>\n",
       "      <th>pubMedId</th>\n",
       "    </tr>\n",
       "  </thead>\n",
       "  <tbody>\n",
       "    <tr>\n",
       "      <th>3</th>\n",
       "      <td>97.391632</td>\n",
       "      <td>25.371031</td>\n",
       "      <td>2013</td>\n",
       "      <td>25704894</td>\n",
       "    </tr>\n",
       "    <tr>\n",
       "      <th>9</th>\n",
       "      <td>97.391632</td>\n",
       "      <td>25.371031</td>\n",
       "      <td>2014</td>\n",
       "      <td>25704894</td>\n",
       "    </tr>\n",
       "    <tr>\n",
       "      <th>16</th>\n",
       "      <td>98.121568</td>\n",
       "      <td>16.040823</td>\n",
       "      <td>2013</td>\n",
       "      <td>25704894</td>\n",
       "    </tr>\n",
       "    <tr>\n",
       "      <th>23</th>\n",
       "      <td>98.121568</td>\n",
       "      <td>16.040823</td>\n",
       "      <td>2013</td>\n",
       "      <td>25704894</td>\n",
       "    </tr>\n",
       "    <tr>\n",
       "      <th>27</th>\n",
       "      <td>98.121568</td>\n",
       "      <td>16.040823</td>\n",
       "      <td>2013</td>\n",
       "      <td>25704894</td>\n",
       "    </tr>\n",
       "    <tr>\n",
       "      <th>38</th>\n",
       "      <td>98.121568</td>\n",
       "      <td>16.040823</td>\n",
       "      <td>2014</td>\n",
       "      <td>25704894</td>\n",
       "    </tr>\n",
       "    <tr>\n",
       "      <th>50</th>\n",
       "      <td>94.923889</td>\n",
       "      <td>24.888889</td>\n",
       "      <td>2013</td>\n",
       "      <td>25704894</td>\n",
       "    </tr>\n",
       "    <tr>\n",
       "      <th>72</th>\n",
       "      <td>98.711517</td>\n",
       "      <td>16.297060</td>\n",
       "      <td>2013</td>\n",
       "      <td>25704894</td>\n",
       "    </tr>\n",
       "    <tr>\n",
       "      <th>81</th>\n",
       "      <td>106.908012</td>\n",
       "      <td>11.755278</td>\n",
       "      <td>2011</td>\n",
       "      <td>25075834</td>\n",
       "    </tr>\n",
       "    <tr>\n",
       "      <th>84</th>\n",
       "      <td>106.908012</td>\n",
       "      <td>11.755278</td>\n",
       "      <td>2011</td>\n",
       "      <td>25075834</td>\n",
       "    </tr>\n",
       "  </tbody>\n",
       "</table>\n",
       "</div>"
      ],
      "text/plain": [
       "           lon        lat  year  pubMedId\n",
       "3    97.391632  25.371031  2013  25704894\n",
       "9    97.391632  25.371031  2014  25704894\n",
       "16   98.121568  16.040823  2013  25704894\n",
       "23   98.121568  16.040823  2013  25704894\n",
       "27   98.121568  16.040823  2013  25704894\n",
       "38   98.121568  16.040823  2014  25704894\n",
       "50   94.923889  24.888889  2013  25704894\n",
       "72   98.711517  16.297060  2013  25704894\n",
       "81  106.908012  11.755278  2011  25075834\n",
       "84  106.908012  11.755278  2011  25075834"
      ]
     },
     "execution_count": 29,
     "metadata": {},
     "output_type": "execute_result"
    }
   ],
   "source": [
    "reduced.head(10)"
   ]
  },
  {
   "cell_type": "code",
   "execution_count": 28,
   "metadata": {
    "collapsed": false
   },
   "outputs": [
    {
     "name": "stdout",
     "output_type": "stream",
     "text": [
      "There are now 120 rows\n"
     ]
    }
   ],
   "source": [
    "print \"There are now\", len(reduced), \"rows\""
   ]
  },
  {
   "cell_type": "code",
   "execution_count": 47,
   "metadata": {
    "collapsed": true
   },
   "outputs": [],
   "source": [
    "reduced.drop_duplicates(subset=[\"lon\", \"lat\", \"pubMedId\"], keep='first', inplace=True)"
   ]
  },
  {
   "cell_type": "code",
   "execution_count": 48,
   "metadata": {
    "collapsed": false
   },
   "outputs": [
    {
     "data": {
      "text/html": [
       "<div>\n",
       "<table border=\"1\" class=\"dataframe\">\n",
       "  <thead>\n",
       "    <tr style=\"text-align: right;\">\n",
       "      <th></th>\n",
       "      <th>lon</th>\n",
       "      <th>lat</th>\n",
       "      <th>year</th>\n",
       "      <th>pubMedId</th>\n",
       "    </tr>\n",
       "  </thead>\n",
       "  <tbody>\n",
       "    <tr>\n",
       "      <th>3</th>\n",
       "      <td>97.391632</td>\n",
       "      <td>25.371031</td>\n",
       "      <td>2013</td>\n",
       "      <td>25704894</td>\n",
       "    </tr>\n",
       "    <tr>\n",
       "      <th>16</th>\n",
       "      <td>98.121568</td>\n",
       "      <td>16.040823</td>\n",
       "      <td>2013</td>\n",
       "      <td>25704894</td>\n",
       "    </tr>\n",
       "    <tr>\n",
       "      <th>50</th>\n",
       "      <td>94.923889</td>\n",
       "      <td>24.888889</td>\n",
       "      <td>2013</td>\n",
       "      <td>25704894</td>\n",
       "    </tr>\n",
       "    <tr>\n",
       "      <th>72</th>\n",
       "      <td>98.711517</td>\n",
       "      <td>16.297060</td>\n",
       "      <td>2013</td>\n",
       "      <td>25704894</td>\n",
       "    </tr>\n",
       "    <tr>\n",
       "      <th>81</th>\n",
       "      <td>106.908012</td>\n",
       "      <td>11.755278</td>\n",
       "      <td>2011</td>\n",
       "      <td>25075834</td>\n",
       "    </tr>\n",
       "    <tr>\n",
       "      <th>103</th>\n",
       "      <td>98.568001</td>\n",
       "      <td>16.714899</td>\n",
       "      <td>2011</td>\n",
       "      <td>25075834</td>\n",
       "    </tr>\n",
       "    <tr>\n",
       "      <th>118</th>\n",
       "      <td>102.607780</td>\n",
       "      <td>12.858110</td>\n",
       "      <td>2011</td>\n",
       "      <td>25075834</td>\n",
       "    </tr>\n",
       "    <tr>\n",
       "      <th>126</th>\n",
       "      <td>104.845462</td>\n",
       "      <td>14.008580</td>\n",
       "      <td>2011</td>\n",
       "      <td>25075834</td>\n",
       "    </tr>\n",
       "    <tr>\n",
       "      <th>131</th>\n",
       "      <td>103.918999</td>\n",
       "      <td>12.538300</td>\n",
       "      <td>2011</td>\n",
       "      <td>25075834</td>\n",
       "    </tr>\n",
       "    <tr>\n",
       "      <th>154</th>\n",
       "      <td>96.521820</td>\n",
       "      <td>20.330143</td>\n",
       "      <td>2012</td>\n",
       "      <td>25075834</td>\n",
       "    </tr>\n",
       "  </tbody>\n",
       "</table>\n",
       "</div>"
      ],
      "text/plain": [
       "            lon        lat  year  pubMedId\n",
       "3     97.391632  25.371031  2013  25704894\n",
       "16    98.121568  16.040823  2013  25704894\n",
       "50    94.923889  24.888889  2013  25704894\n",
       "72    98.711517  16.297060  2013  25704894\n",
       "81   106.908012  11.755278  2011  25075834\n",
       "103   98.568001  16.714899  2011  25075834\n",
       "118  102.607780  12.858110  2011  25075834\n",
       "126  104.845462  14.008580  2011  25075834\n",
       "131  103.918999  12.538300  2011  25075834\n",
       "154   96.521820  20.330143  2012  25075834"
      ]
     },
     "execution_count": 48,
     "metadata": {},
     "output_type": "execute_result"
    }
   ],
   "source": [
    "reduced.head(10)"
   ]
  },
  {
   "cell_type": "code",
   "execution_count": 49,
   "metadata": {
    "collapsed": false
   },
   "outputs": [
    {
     "name": "stdout",
     "output_type": "stream",
     "text": [
      "There are now 42 rows\n"
     ]
    }
   ],
   "source": [
    "print \"There are now\", len(reduced), \"rows\""
   ]
  },
  {
   "cell_type": "markdown",
   "metadata": {},
   "source": [
    "## Export to csv"
   ]
  },
  {
   "cell_type": "code",
   "execution_count": 50,
   "metadata": {
    "collapsed": false
   },
   "outputs": [],
   "source": [
    "reduced.to_csv(\"data/k13_by_year_reduced.csv\", index=False)"
   ]
  }
 ],
 "metadata": {
  "kernelspec": {
   "display_name": "Python 2",
   "language": "python",
   "name": "python2"
  },
  "language_info": {
   "codemirror_mode": {
    "name": "ipython",
    "version": 2
   },
   "file_extension": ".py",
   "mimetype": "text/x-python",
   "name": "python",
   "nbconvert_exporter": "python",
   "pygments_lexer": "ipython2",
   "version": "2.7.13"
  }
 },
 "nbformat": 4,
 "nbformat_minor": 2
}
