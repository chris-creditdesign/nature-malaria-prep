{
 "cells": [
  {
   "cell_type": "markdown",
   "metadata": {},
   "source": [
    "Convert shapefile to geojson"
   ]
  },
  {
   "cell_type": "code",
   "execution_count": 14,
   "metadata": {
    "collapsed": true
   },
   "outputs": [],
   "source": [
    "!shp2json natural-earth-data/ne_110m_admin_0_countries/ne_110m_admin_0_countries.shp -o world/countries.json"
   ]
  },
  {
   "cell_type": "markdown",
   "metadata": {},
   "source": [
    "Split up the geojson file so that each line ends with a `\\n` character"
   ]
  },
  {
   "cell_type": "code",
   "execution_count": 15,
   "metadata": {
    "collapsed": true
   },
   "outputs": [],
   "source": [
    "!ndjson-split 'd.features' \\\n",
    "    < world/countries.json \\\n",
    "    > world/countries.ndjson"
   ]
  },
  {
   "cell_type": "code",
   "execution_count": 16,
   "metadata": {
    "collapsed": false
   },
   "outputs": [
    {
     "name": "stdout",
     "output_type": "stream",
     "text": [
      "     177 world/countries.ndjson\r\n"
     ]
    }
   ],
   "source": [
    "!wc -l world/countries.ndjson"
   ]
  },
  {
   "cell_type": "code",
   "execution_count": 17,
   "metadata": {
    "collapsed": true
   },
   "outputs": [],
   "source": [
    "!rm world/countries.json"
   ]
  },
  {
   "cell_type": "markdown",
   "metadata": {},
   "source": [
    "Add a `Code` key for each country, so that it can be used for the join and reduce the amount of properties for each country, to just the name `NAME_EN`, country code `ISO_A3` and region `REGION_UN` and `SUBREGION`"
   ]
  },
  {
   "cell_type": "code",
   "execution_count": 18,
   "metadata": {
    "collapsed": false
   },
   "outputs": [],
   "source": [
    "!ndjson-map 'd.Code = d.properties.ISO_A3, d' < world/countries.ndjson \\\n",
    "    | ndjson-map 'd.properties = { Name:d.properties.NAME_EN, Code:d.properties.ISO_A3, region:d.properties.REGION_UN, subregion:d.properties.SUBREGION }, d' \\\n",
    "    > world/temp.ndjson"
   ]
  },
  {
   "cell_type": "code",
   "execution_count": 19,
   "metadata": {
    "collapsed": true
   },
   "outputs": [],
   "source": [
    "!rm world/countries.ndjson"
   ]
  },
  {
   "cell_type": "code",
   "execution_count": 20,
   "metadata": {
    "collapsed": true
   },
   "outputs": [],
   "source": [
    "!mv world/temp.ndjson world/countries.ndjson"
   ]
  },
  {
   "cell_type": "markdown",
   "metadata": {},
   "source": [
    "Turn the marlaria-death-rates.csv into a NDJSON file"
   ]
  },
  {
   "cell_type": "code",
   "execution_count": 21,
   "metadata": {
    "collapsed": true
   },
   "outputs": [],
   "source": [
    "!csv2json -n \\\n",
    "    < data/malaria-death-rates-by-year.csv \\\n",
    "    > world/malaria-death-rates-by-year.ndjson"
   ]
  },
  {
   "cell_type": "markdown",
   "metadata": {},
   "source": [
    "Join the deaths data to the world map data. Make this a left outer join, so that each country is kept, even if they don't have any malaria data."
   ]
  },
  {
   "cell_type": "code",
   "execution_count": 22,
   "metadata": {
    "collapsed": true
   },
   "outputs": [],
   "source": [
    "!ndjson-join --left 'd.Code' \\\n",
    "    world/countries.ndjson \\\n",
    "    world/malaria-death-rates-by-year.ndjson \\\n",
    "    > world/temp.ndjson"
   ]
  },
  {
   "cell_type": "code",
   "execution_count": 23,
   "metadata": {
    "collapsed": true
   },
   "outputs": [],
   "source": [
    "!rm world/countries.ndjson\n",
    "!mv world/temp.ndjson world/countries.ndjson"
   ]
  },
  {
   "cell_type": "markdown",
   "metadata": {},
   "source": [
    "This results in a file with two json objects per line. Add the second object as a 'deaths' to the first objects 'properties'\n",
    "To get rid of the second object use ndjson-map and Object.assign"
   ]
  },
  {
   "cell_type": "code",
   "execution_count": 24,
   "metadata": {
    "collapsed": true
   },
   "outputs": [],
   "source": [
    "!ndjson-map 'd[0].properties.deaths = d[1], d' < world/countries.ndjson \\\n",
    "    | ndjson-map 'Object.assign(d[0])' \\\n",
    "    > world/temp.ndjson"
   ]
  },
  {
   "cell_type": "code",
   "execution_count": 25,
   "metadata": {
    "collapsed": true
   },
   "outputs": [],
   "source": [
    "!rm world/countries.ndjson\n",
    "!mv world/temp.ndjson world/countries.ndjson"
   ]
  },
  {
   "cell_type": "markdown",
   "metadata": {},
   "source": [
    "Convert back from ndjson"
   ]
  },
  {
   "cell_type": "code",
   "execution_count": 26,
   "metadata": {
    "collapsed": true
   },
   "outputs": [],
   "source": [
    "!ndjson-reduce < world/countries.ndjson \\\n",
    "    | ndjson-map '{type: \"FeatureCollection\", features: d}' \\\n",
    "    > world/countries.json"
   ]
  },
  {
   "cell_type": "code",
   "execution_count": 27,
   "metadata": {
    "collapsed": true
   },
   "outputs": [],
   "source": [
    "!rm world/countries.ndjson\n",
    "!rm world/malaria-death-rates-by-year.ndjson"
   ]
  },
  {
   "cell_type": "markdown",
   "metadata": {},
   "source": [
    "Convert from from geojson to topojson"
   ]
  },
  {
   "cell_type": "code",
   "execution_count": 28,
   "metadata": {
    "collapsed": true
   },
   "outputs": [],
   "source": [
    "!geo2topo world/countries.json > world/countries-topo.json"
   ]
  },
  {
   "cell_type": "markdown",
   "metadata": {
    "collapsed": true
   },
   "source": [
    "Simplify the topojson to reduce file size "
   ]
  },
  {
   "cell_type": "code",
   "execution_count": 30,
   "metadata": {
    "collapsed": true
   },
   "outputs": [],
   "source": [
    "!toposimplify -p 0.01 -f < world/countries-topo.json > world/temp.json"
   ]
  },
  {
   "cell_type": "code",
   "execution_count": 31,
   "metadata": {
    "collapsed": true
   },
   "outputs": [],
   "source": [
    "!rm world/countries-topo.json\n",
    "!mv world/temp.json world/countries-topo.json"
   ]
  }
 ],
 "metadata": {
  "kernelspec": {
   "display_name": "Python 2",
   "language": "python",
   "name": "python2"
  },
  "language_info": {
   "codemirror_mode": {
    "name": "ipython",
    "version": 2
   },
   "file_extension": ".py",
   "mimetype": "text/x-python",
   "name": "python",
   "nbconvert_exporter": "python",
   "pygments_lexer": "ipython2",
   "version": "2.7.13"
  }
 },
 "nbformat": 4,
 "nbformat_minor": 2
}
