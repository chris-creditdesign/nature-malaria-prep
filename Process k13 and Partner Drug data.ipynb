{
 "cells": [
  {
   "cell_type": "markdown",
   "metadata": {},
   "source": [
    "## import pandas"
   ]
  },
  {
   "cell_type": "code",
   "execution_count": 1,
   "metadata": {
    "collapsed": true
   },
   "outputs": [],
   "source": [
    "import pandas as pd\n",
    "import numpy as np\n",
    "import matplotlib.pyplot as plt\n",
    "%matplotlib inline"
   ]
  },
  {
   "cell_type": "markdown",
   "metadata": {},
   "source": [
    "## Load the k13 data in into a pandas dataframe"
   ]
  },
  {
   "cell_type": "code",
   "execution_count": 2,
   "metadata": {
    "collapsed": false
   },
   "outputs": [],
   "source": [
    "k13 = pd.read_excel('data/k13 surveyor data 02.xls')"
   ]
  },
  {
   "cell_type": "code",
   "execution_count": 3,
   "metadata": {
    "collapsed": false
   },
   "outputs": [
    {
     "data": {
      "text/html": [
       "<div>\n",
       "<table border=\"1\" class=\"dataframe\">\n",
       "  <thead>\n",
       "    <tr style=\"text-align: right;\">\n",
       "      <th></th>\n",
       "      <th>study id</th>\n",
       "      <th>site</th>\n",
       "      <th>mutation</th>\n",
       "      <th>present</th>\n",
       "      <th>tested</th>\n",
       "      <th>country</th>\n",
       "      <th>continent</th>\n",
       "      <th>lon</th>\n",
       "      <th>lat</th>\n",
       "      <th>year</th>\n",
       "      <th>title</th>\n",
       "      <th>authors</th>\n",
       "      <th>pubMedId</th>\n",
       "      <th>val</th>\n",
       "      <th>estLoc</th>\n",
       "    </tr>\n",
       "  </thead>\n",
       "  <tbody>\n",
       "    <tr>\n",
       "      <th>0</th>\n",
       "      <td>PSHHG</td>\n",
       "      <td>Chin State</td>\n",
       "      <td>wildtype</td>\n",
       "      <td>60</td>\n",
       "      <td>62</td>\n",
       "      <td>Myanmar</td>\n",
       "      <td>Asia</td>\n",
       "      <td>92.848000</td>\n",
       "      <td>21.300000</td>\n",
       "      <td>2014</td>\n",
       "      <td>Spread of artemisinin-resistant Plasmodium fa...</td>\n",
       "      <td>Tun KM, Imwong M, Lwin KM, Win AA, Hlaing TM, ...</td>\n",
       "      <td>25704894</td>\n",
       "      <td>False</td>\n",
       "      <td>0</td>\n",
       "    </tr>\n",
       "    <tr>\n",
       "      <th>1</th>\n",
       "      <td>PSHHG</td>\n",
       "      <td>Chin State</td>\n",
       "      <td>P574L</td>\n",
       "      <td>2</td>\n",
       "      <td>62</td>\n",
       "      <td>Myanmar</td>\n",
       "      <td>Asia</td>\n",
       "      <td>92.848000</td>\n",
       "      <td>21.300000</td>\n",
       "      <td>2014</td>\n",
       "      <td>Spread of artemisinin-resistant Plasmodium fa...</td>\n",
       "      <td>Tun KM, Imwong M, Lwin KM, Win AA, Hlaing TM, ...</td>\n",
       "      <td>25704894</td>\n",
       "      <td>True</td>\n",
       "      <td>0</td>\n",
       "    </tr>\n",
       "    <tr>\n",
       "      <th>2</th>\n",
       "      <td>PSHHG</td>\n",
       "      <td>Kachin State</td>\n",
       "      <td>wildtype</td>\n",
       "      <td>19</td>\n",
       "      <td>30</td>\n",
       "      <td>Myanmar</td>\n",
       "      <td>Asia</td>\n",
       "      <td>97.391632</td>\n",
       "      <td>25.371031</td>\n",
       "      <td>2013</td>\n",
       "      <td>Spread of artemisinin-resistant Plasmodium fa...</td>\n",
       "      <td>Tun KM, Imwong M, Lwin KM, Win AA, Hlaing TM, ...</td>\n",
       "      <td>25704894</td>\n",
       "      <td>False</td>\n",
       "      <td>0</td>\n",
       "    </tr>\n",
       "  </tbody>\n",
       "</table>\n",
       "</div>"
      ],
      "text/plain": [
       "  study id          site  mutation  present  tested  country continent  \\\n",
       "0    PSHHG    Chin State  wildtype       60      62  Myanmar      Asia   \n",
       "1    PSHHG    Chin State     P574L        2      62  Myanmar      Asia   \n",
       "2    PSHHG  Kachin State  wildtype       19      30  Myanmar      Asia   \n",
       "\n",
       "         lon        lat  year  \\\n",
       "0  92.848000  21.300000  2014   \n",
       "1  92.848000  21.300000  2014   \n",
       "2  97.391632  25.371031  2013   \n",
       "\n",
       "                                               title  \\\n",
       "0   Spread of artemisinin-resistant Plasmodium fa...   \n",
       "1   Spread of artemisinin-resistant Plasmodium fa...   \n",
       "2   Spread of artemisinin-resistant Plasmodium fa...   \n",
       "\n",
       "                                             authors  pubMedId    val  estLoc  \n",
       "0  Tun KM, Imwong M, Lwin KM, Win AA, Hlaing TM, ...  25704894  False       0  \n",
       "1  Tun KM, Imwong M, Lwin KM, Win AA, Hlaing TM, ...  25704894   True       0  \n",
       "2  Tun KM, Imwong M, Lwin KM, Win AA, Hlaing TM, ...  25704894  False       0  "
      ]
     },
     "execution_count": 3,
     "metadata": {},
     "output_type": "execute_result"
    }
   ],
   "source": [
    "## Show just the header and the top three rows\n",
    "k13.head(3)"
   ]
  },
  {
   "cell_type": "code",
   "execution_count": 4,
   "metadata": {
    "collapsed": false
   },
   "outputs": [
    {
     "name": "stdout",
     "output_type": "stream",
     "text": [
      "There are 1038 rows\n"
     ]
    }
   ],
   "source": [
    "print \"There are\", len(k13), \"rows\""
   ]
  },
  {
   "cell_type": "code",
   "execution_count": 5,
   "metadata": {
    "collapsed": false
   },
   "outputs": [
    {
     "name": "stdout",
     "output_type": "stream",
     "text": [
      "The complete list of countries is: \n",
      "\n",
      "Myanmar, Bangladesh, Thailand, Lao People's Democratic Republic, Viet Nam, Nigeria, India, Democratic Republic of the Congo, Cambodia, Kenya, Mali, Gambia, Ghana, Burkina Faso, Uganda, Malawi, Tanzania, Côte d'Ivoire, Gabon, Senegal, Angola, China, Ethiopia, Guyana, Comoros, Eritrea, Equatorial Guinea, Afghanistan, Benin, Guinea, Guinea-Bissau, Liberia, Mauritania, Niger, Sierra Leone, Cameroon, Togo, Chad, Congo, Burundi, Rwanda, Sudan, Somalia, South Sudan, Mozambique, South Africa, Zambia, Zimbabwe, Madagascar, Iran, Nepal, Indonesia, Philippines, Papua New Guinea, Solomon Islands, Colombia, Ecuador, Venezuela, French Guiana, Peru\n"
     ]
    }
   ],
   "source": [
    "print \"The complete list of countries is: \\n\\n\", ', '.join(k13['country'].unique().tolist())\n"
   ]
  },
  {
   "cell_type": "markdown",
   "metadata": {},
   "source": [
    "### Seperate Myanmar, Thailand, Cambodia, Laos and Vietnam"
   ]
  },
  {
   "cell_type": "code",
   "execution_count": 6,
   "metadata": {
    "collapsed": true
   },
   "outputs": [],
   "source": [
    "k13_countries = k13[\n",
    "    (k13.country == 'Myanmar') \n",
    "    | (k13.country == 'Thailand') \n",
    "    | (k13.country == 'Cambodia') \n",
    "    | (k13.country == \"Lao People's Democratic Republic\") \n",
    "    | (k13.country == 'Viet Nam')\n",
    "].copy()"
   ]
  },
  {
   "cell_type": "code",
   "execution_count": 7,
   "metadata": {
    "collapsed": false
   },
   "outputs": [
    {
     "name": "stdout",
     "output_type": "stream",
     "text": [
      "There are now 608 rows\n"
     ]
    }
   ],
   "source": [
    "print \"There are now\", len(k13_countries), \"rows\""
   ]
  },
  {
   "cell_type": "code",
   "execution_count": 8,
   "metadata": {
    "collapsed": false
   },
   "outputs": [
    {
     "name": "stdout",
     "output_type": "stream",
     "text": [
      "The list of countries is now: \n",
      "\n",
      "Myanmar, Thailand, Lao People's Democratic Republic, Viet Nam, Cambodia\n"
     ]
    }
   ],
   "source": [
    "print \"The list of countries is now: \\n\\n\", \", \".join(k13_countries['country'].unique().tolist())"
   ]
  },
  {
   "cell_type": "markdown",
   "metadata": {},
   "source": [
    "### Get only the true values\n",
    "\n",
    "Remove any row where val = False"
   ]
  },
  {
   "cell_type": "code",
   "execution_count": 9,
   "metadata": {
    "collapsed": false
   },
   "outputs": [],
   "source": [
    "k13_countries_val = k13_countries[ k13_countries['val'] == True ].copy()"
   ]
  },
  {
   "cell_type": "code",
   "execution_count": 10,
   "metadata": {
    "collapsed": false
   },
   "outputs": [
    {
     "name": "stdout",
     "output_type": "stream",
     "text": [
      "There are now 337 rows\n"
     ]
    }
   ],
   "source": [
    "print \"There are now\", len(k13_countries_val), \"rows\""
   ]
  },
  {
   "cell_type": "markdown",
   "metadata": {},
   "source": [
    "### Include only the validated mutations\n",
    "\n",
    "Remove any rows where the mutation is not N458Y, R539T, I543T or C580Y\n",
    "\n",
    "From [WHO pdf](http://apps.who.int/iris/bitstream/handle/10665/255213/WHO-HTM-GMP-2017.9-eng.pdf)\n",
    "\n",
    "| K13 MUTATION \t| CLASSIFICATION\t|\n",
    "|---------------|-------------------|\n",
    "| E252Q \t\t| Not associated\t|\n",
    "| P441L \t\t| Candidate\t\t\t|\n",
    "| F446I \t\t| Candidate\t\t\t|\n",
    "| G449A \t\t| Candidate\t\t\t|\n",
    "| N458Y \t\t| **Validated**\t\t|\n",
    "| Y493H \t\t| **Validated**\t\t|\n",
    "| G538V \t\t| Candidate\t\t\t|\n",
    "| R539T \t\t| **Validated**\t\t|\n",
    "| I543T \t\t| **Validated**\t\t|\n",
    "| P553L \t\t| Candidate\t\t\t|\n",
    "| R561H \t\t| Candidate\t\t\t|\n",
    "| V568G \t\t| Candidate\t\t\t|\n",
    "| P574L \t\t| Candidate\t\t\t|\n",
    "| A578S \t\t| Not associated\t|\n",
    "| C580Y \t\t| **Validated**\t\t|\n",
    "| A675V \t\t| Candidate\t\t\t|\n"
   ]
  },
  {
   "cell_type": "code",
   "execution_count": 11,
   "metadata": {
    "collapsed": false
   },
   "outputs": [
    {
     "name": "stdout",
     "output_type": "stream",
     "text": [
      "The complete list of mutations is: \n",
      "A481V, \n",
      "A675V, \n",
      "C580C/Y, \n",
      "C580Y, \n",
      "D584V, \n",
      "E252Q, \n",
      "F446I, \n",
      "F614L, \n",
      "G449A/D, \n",
      "G538V, \n",
      "H719N, \n",
      "I543T, \n",
      "M476I, \n",
      "N458Y, \n",
      "N525D, \n",
      "N537I, \n",
      "P441L, \n",
      "P553L, \n",
      "P574L, \n",
      "R539R/T, \n",
      "R539T, \n",
      "R561H/C, \n",
      "V568G\n"
     ]
    }
   ],
   "source": [
    "listOfMutations = k13_countries_val.mutation.unique().tolist()\n",
    "listOfMutations.sort()\n",
    "\n",
    "print \"The complete list of mutations is: \\n\", \", \\n\".join(listOfMutations)"
   ]
  },
  {
   "cell_type": "markdown",
   "metadata": {},
   "source": [
    "Note: Y493H and A578S are not present in the list of mutations "
   ]
  },
  {
   "cell_type": "code",
   "execution_count": 12,
   "metadata": {
    "collapsed": true
   },
   "outputs": [],
   "source": [
    "## Create a function to classify the mutations\n",
    "def classifyMutation (mutation) :\n",
    "    if mutation == \"E252Q\" :\n",
    "        return \"Not associated\"\n",
    "    if mutation == \"P441L\" :\n",
    "        return \"Candidate\"\n",
    "    if mutation == \"F446I\" :\n",
    "        return \"Candidate\"\n",
    "    if mutation == \"G449A/D\" :\n",
    "        return \"Candidate\"\n",
    "    if mutation == \"N458Y\" :\n",
    "        return \"Validated\"\n",
    "    if mutation == \"G538V\" :\n",
    "        return \"Candidate\"\n",
    "    if mutation == \"R539T\" :\n",
    "        return \"Validated\"\n",
    "    if mutation == \"R539R/T\" :\n",
    "        return \"Validated\"\n",
    "    if mutation == \"I543T\" :\n",
    "        return \"Validated\"\n",
    "    if mutation == \"P553L\" :\n",
    "        return \"Candidate\"\n",
    "    if mutation == \"R561H/C\" :\n",
    "        return \"Candidate\"\n",
    "    if mutation == \"V568G\" :\n",
    "        return \"Candidate\"\n",
    "    if mutation == \"P574L\" :\n",
    "        return \"Candidate\"\n",
    "    if mutation == \"C580Y\" :\n",
    "        return \"Validated\"\n",
    "    if mutation == \"C580C/Y\" :\n",
    "        return \"Validated\"\n",
    "    if mutation == \"A675V\" :\n",
    "        return \"Candidate\"\n",
    "    return \"Not associated\"\n"
   ]
  },
  {
   "cell_type": "code",
   "execution_count": 13,
   "metadata": {
    "collapsed": false
   },
   "outputs": [],
   "source": [
    "## Add a new column with the classification\n",
    "k13_countries_val.loc[:,\"classification\"] = k13_countries_val.loc[:,\"mutation\"].apply(classifyMutation)"
   ]
  },
  {
   "cell_type": "code",
   "execution_count": 16,
   "metadata": {
    "collapsed": false
   },
   "outputs": [],
   "source": [
    "## Keep only the validated AND candidate mutations\n",
    "k13_countries_val_mutations = k13_countries_val[ k13_countries_val.classification != \"Not associated\" ]"
   ]
  },
  {
   "cell_type": "code",
   "execution_count": 31,
   "metadata": {
    "collapsed": false
   },
   "outputs": [
    {
     "name": "stdout",
     "output_type": "stream",
     "text": [
      "The list of mutations is now: \n",
      "\n"
     ]
    },
    {
     "data": {
      "text/html": [
       "<div>\n",
       "<table border=\"1\" class=\"dataframe\">\n",
       "  <thead>\n",
       "    <tr style=\"text-align: right;\">\n",
       "      <th></th>\n",
       "      <th>mutation</th>\n",
       "      <th>classification</th>\n",
       "    </tr>\n",
       "  </thead>\n",
       "  <tbody>\n",
       "    <tr>\n",
       "      <th>0</th>\n",
       "      <td>A675V</td>\n",
       "      <td>Candidate</td>\n",
       "    </tr>\n",
       "    <tr>\n",
       "      <th>1</th>\n",
       "      <td>C580C/Y</td>\n",
       "      <td>Validated</td>\n",
       "    </tr>\n",
       "    <tr>\n",
       "      <th>2</th>\n",
       "      <td>C580Y</td>\n",
       "      <td>Validated</td>\n",
       "    </tr>\n",
       "    <tr>\n",
       "      <th>3</th>\n",
       "      <td>F446I</td>\n",
       "      <td>Candidate</td>\n",
       "    </tr>\n",
       "    <tr>\n",
       "      <th>4</th>\n",
       "      <td>G449A/D</td>\n",
       "      <td>Candidate</td>\n",
       "    </tr>\n",
       "    <tr>\n",
       "      <th>5</th>\n",
       "      <td>G538V</td>\n",
       "      <td>Candidate</td>\n",
       "    </tr>\n",
       "    <tr>\n",
       "      <th>6</th>\n",
       "      <td>I543T</td>\n",
       "      <td>Validated</td>\n",
       "    </tr>\n",
       "    <tr>\n",
       "      <th>7</th>\n",
       "      <td>N458Y</td>\n",
       "      <td>Validated</td>\n",
       "    </tr>\n",
       "    <tr>\n",
       "      <th>8</th>\n",
       "      <td>P441L</td>\n",
       "      <td>Candidate</td>\n",
       "    </tr>\n",
       "    <tr>\n",
       "      <th>9</th>\n",
       "      <td>P553L</td>\n",
       "      <td>Candidate</td>\n",
       "    </tr>\n",
       "    <tr>\n",
       "      <th>10</th>\n",
       "      <td>P574L</td>\n",
       "      <td>Candidate</td>\n",
       "    </tr>\n",
       "    <tr>\n",
       "      <th>11</th>\n",
       "      <td>R539R/T</td>\n",
       "      <td>Validated</td>\n",
       "    </tr>\n",
       "    <tr>\n",
       "      <th>12</th>\n",
       "      <td>R539T</td>\n",
       "      <td>Validated</td>\n",
       "    </tr>\n",
       "    <tr>\n",
       "      <th>13</th>\n",
       "      <td>R561H/C</td>\n",
       "      <td>Candidate</td>\n",
       "    </tr>\n",
       "    <tr>\n",
       "      <th>14</th>\n",
       "      <td>V568G</td>\n",
       "      <td>Candidate</td>\n",
       "    </tr>\n",
       "  </tbody>\n",
       "</table>\n",
       "</div>"
      ],
      "text/plain": [
       "   mutation classification\n",
       "0     A675V      Candidate\n",
       "1   C580C/Y      Validated\n",
       "2     C580Y      Validated\n",
       "3     F446I      Candidate\n",
       "4   G449A/D      Candidate\n",
       "5     G538V      Candidate\n",
       "6     I543T      Validated\n",
       "7     N458Y      Validated\n",
       "8     P441L      Candidate\n",
       "9     P553L      Candidate\n",
       "10    P574L      Candidate\n",
       "11  R539R/T      Validated\n",
       "12    R539T      Validated\n",
       "13  R561H/C      Candidate\n",
       "14    V568G      Candidate"
      ]
     },
     "execution_count": 31,
     "metadata": {},
     "output_type": "execute_result"
    }
   ],
   "source": [
    "filteredMutations = k13_countries_val_mutations.mutation.unique().tolist()\n",
    "filteredMutations.sort()\n",
    "mutations_df = pd.DataFrame({\"mutation\":filteredMutations})\n",
    "mutations_df[\"classification\"] = mutations_df[\"mutation\"].apply(classifyMutation)\n",
    "\n",
    "print \"The list of mutations is now: \\n\"\n",
    "mutations_df"
   ]
  },
  {
   "cell_type": "code",
   "execution_count": 18,
   "metadata": {
    "collapsed": false
   },
   "outputs": [
    {
     "name": "stdout",
     "output_type": "stream",
     "text": [
      "There are now 291 rows\n"
     ]
    }
   ],
   "source": [
    "print \"There are now\", len(k13_countries_val_mutations), \"rows\""
   ]
  },
  {
   "cell_type": "markdown",
   "metadata": {},
   "source": [
    "### Exclude sample size less than 20"
   ]
  },
  {
   "cell_type": "code",
   "execution_count": 14,
   "metadata": {
    "collapsed": true
   },
   "outputs": [],
   "source": [
    "## Keep only the rows where tested >= 20\n",
    "k13_countries_val_mutations_size = k13_countries_val_mutations[\n",
    "    k13_countries_val_mutations.tested >= 20 \n",
    "]"
   ]
  },
  {
   "cell_type": "code",
   "execution_count": 15,
   "metadata": {
    "collapsed": false
   },
   "outputs": [
    {
     "name": "stdout",
     "output_type": "stream",
     "text": [
      "There are now 129 rows\n"
     ]
    }
   ],
   "source": [
    "print \"There are now\", len(k13_countries_val_mutations_size), \"rows\""
   ]
  },
  {
   "cell_type": "code",
   "execution_count": 16,
   "metadata": {
    "collapsed": false
   },
   "outputs": [
    {
     "data": {
      "text/plain": [
       "count    129.000000\n",
       "mean      93.767442\n",
       "std      129.669743\n",
       "min       27.000000\n",
       "25%       42.000000\n",
       "50%       62.000000\n",
       "75%      100.000000\n",
       "max      882.000000\n",
       "Name: tested, dtype: float64"
      ]
     },
     "execution_count": 16,
     "metadata": {},
     "output_type": "execute_result"
    }
   ],
   "source": [
    "## Confirm that the minimum tested size is greater than or equal to 20\n",
    "k13_countries_val_mutations_size.tested.describe()"
   ]
  },
  {
   "cell_type": "markdown",
   "metadata": {},
   "source": [
    "### Exclue prevalence less than 5%\n",
    "\n",
    "Prevalence is present / tested"
   ]
  },
  {
   "cell_type": "code",
   "execution_count": 17,
   "metadata": {
    "collapsed": false
   },
   "outputs": [],
   "source": [
    "k13_countries_val_mutations_size_prevalence = k13_countries_val_mutations_size[\n",
    "    (k13_countries_val_mutations_size.present / k13_countries_val_mutations_size.tested) >= 0.05\n",
    "]"
   ]
  },
  {
   "cell_type": "code",
   "execution_count": 18,
   "metadata": {
    "collapsed": false
   },
   "outputs": [
    {
     "name": "stdout",
     "output_type": "stream",
     "text": [
      "There are now 80 rows\n"
     ]
    }
   ],
   "source": [
    "print \"There are now\", len(k13_countries_val_mutations_size_prevalence), \"rows\""
   ]
  },
  {
   "cell_type": "code",
   "execution_count": 19,
   "metadata": {
    "collapsed": true
   },
   "outputs": [],
   "source": [
    "## Check that the minimum prevalence is greater or equal to 5%\n",
    "k13_prevalence = (k13_countries_val_mutations_size_prevalence.loc[:,\"present\"] / k13_countries_val_mutations_size_prevalence.loc[:,\"tested\"])* 100"
   ]
  },
  {
   "cell_type": "code",
   "execution_count": 20,
   "metadata": {
    "collapsed": false
   },
   "outputs": [
    {
     "data": {
      "text/plain": [
       "count    80.000000\n",
       "mean     27.583031\n",
       "std      24.300991\n",
       "min       5.000000\n",
       "25%       8.100666\n",
       "50%      15.737457\n",
       "75%      42.506460\n",
       "max      88.095238\n",
       "dtype: float64"
      ]
     },
     "execution_count": 20,
     "metadata": {},
     "output_type": "execute_result"
    }
   ],
   "source": [
    "k13_prevalence.describe()"
   ]
  },
  {
   "cell_type": "markdown",
   "metadata": {
    "collapsed": true
   },
   "source": [
    "## Load the partner drug data into a pandas dataframe"
   ]
  },
  {
   "cell_type": "code",
   "execution_count": 21,
   "metadata": {
    "collapsed": false
   },
   "outputs": [],
   "source": [
    "partner = pd.read_excel('data/ACT_Partner_Drug data 03.xls')"
   ]
  },
  {
   "cell_type": "code",
   "execution_count": 22,
   "metadata": {
    "collapsed": false
   },
   "outputs": [
    {
     "data": {
      "text/html": [
       "<div>\n",
       "<table border=\"1\" class=\"dataframe\">\n",
       "  <thead>\n",
       "    <tr style=\"text-align: right;\">\n",
       "      <th></th>\n",
       "      <th>study Id</th>\n",
       "      <th>site number</th>\n",
       "      <th>country</th>\n",
       "      <th>site</th>\n",
       "      <th>lon</th>\n",
       "      <th>lat</th>\n",
       "      <th>study start</th>\n",
       "      <th>study end</th>\n",
       "      <th>marker type</th>\n",
       "      <th>tested</th>\n",
       "      <th>...</th>\n",
       "      <th>author</th>\n",
       "      <th>publication year</th>\n",
       "      <th>publication URL</th>\n",
       "      <th>title</th>\n",
       "      <th>notes</th>\n",
       "      <th>pubmed Id</th>\n",
       "      <th>drug</th>\n",
       "      <th>marker group</th>\n",
       "      <th>percentage</th>\n",
       "      <th>included or excluded</th>\n",
       "    </tr>\n",
       "  </thead>\n",
       "  <tbody>\n",
       "    <tr>\n",
       "      <th>0</th>\n",
       "      <td>19889891</td>\n",
       "      <td>4</td>\n",
       "      <td>Viet nam</td>\n",
       "      <td>Binh Phuoc</td>\n",
       "      <td>106.723</td>\n",
       "      <td>11.75</td>\n",
       "      <td>2006</td>\n",
       "      <td>2006</td>\n",
       "      <td>pfcrt 76K/T</td>\n",
       "      <td>38</td>\n",
       "      <td>...</td>\n",
       "      <td>Isozumi R</td>\n",
       "      <td>2010.0</td>\n",
       "      <td>http://www.pubmedcentral.nih.gov/articlerender...</td>\n",
       "      <td>NaN</td>\n",
       "      <td>19889891.0</td>\n",
       "      <td>Longitudinal survey of Plasmodium falciparum i...</td>\n",
       "      <td>Lumefantrine</td>\n",
       "      <td>pfcrt 76K/T</td>\n",
       "      <td>13.0</td>\n",
       "      <td>NaN</td>\n",
       "    </tr>\n",
       "    <tr>\n",
       "      <th>1</th>\n",
       "      <td>19889891</td>\n",
       "      <td>2</td>\n",
       "      <td>Viet nam</td>\n",
       "      <td>Binh Phuoc</td>\n",
       "      <td>106.723</td>\n",
       "      <td>11.75</td>\n",
       "      <td>2002</td>\n",
       "      <td>2002</td>\n",
       "      <td>pfcrt 76K/T</td>\n",
       "      <td>100</td>\n",
       "      <td>...</td>\n",
       "      <td>Isozumi R</td>\n",
       "      <td>2010.0</td>\n",
       "      <td>http://www.pubmedcentral.nih.gov/articlerender...</td>\n",
       "      <td>NaN</td>\n",
       "      <td>19889891.0</td>\n",
       "      <td>Longitudinal survey of Plasmodium falciparum i...</td>\n",
       "      <td>Lumefantrine</td>\n",
       "      <td>pfcrt 76K/T</td>\n",
       "      <td>13.0</td>\n",
       "      <td>NaN</td>\n",
       "    </tr>\n",
       "    <tr>\n",
       "      <th>2</th>\n",
       "      <td>19889891</td>\n",
       "      <td>5</td>\n",
       "      <td>Viet nam</td>\n",
       "      <td>Binh Phuoc</td>\n",
       "      <td>106.723</td>\n",
       "      <td>11.75</td>\n",
       "      <td>2007</td>\n",
       "      <td>2007</td>\n",
       "      <td>pfcrt 76K/T</td>\n",
       "      <td>16</td>\n",
       "      <td>...</td>\n",
       "      <td>Isozumi R</td>\n",
       "      <td>2010.0</td>\n",
       "      <td>http://www.pubmedcentral.nih.gov/articlerender...</td>\n",
       "      <td>NaN</td>\n",
       "      <td>19889891.0</td>\n",
       "      <td>Longitudinal survey of Plasmodium falciparum i...</td>\n",
       "      <td>Lumefantrine</td>\n",
       "      <td>pfcrt 76K/T</td>\n",
       "      <td>13.0</td>\n",
       "      <td>NaN</td>\n",
       "    </tr>\n",
       "  </tbody>\n",
       "</table>\n",
       "<p>3 rows × 22 columns</p>\n",
       "</div>"
      ],
      "text/plain": [
       "   study Id  site number   country        site      lon    lat  study start  \\\n",
       "0  19889891            4  Viet nam  Binh Phuoc  106.723  11.75         2006   \n",
       "1  19889891            2  Viet nam  Binh Phuoc  106.723  11.75         2002   \n",
       "2  19889891            5  Viet nam  Binh Phuoc  106.723  11.75         2007   \n",
       "\n",
       "   study end  marker type  tested         ...              author  \\\n",
       "0       2006  pfcrt 76K/T      38         ...           Isozumi R   \n",
       "1       2002  pfcrt 76K/T     100         ...           Isozumi R   \n",
       "2       2007  pfcrt 76K/T      16         ...           Isozumi R   \n",
       "\n",
       "   publication year                                    publication URL  title  \\\n",
       "0            2010.0  http://www.pubmedcentral.nih.gov/articlerender...    NaN   \n",
       "1            2010.0  http://www.pubmedcentral.nih.gov/articlerender...    NaN   \n",
       "2            2010.0  http://www.pubmedcentral.nih.gov/articlerender...    NaN   \n",
       "\n",
       "        notes                                          pubmed Id  \\\n",
       "0  19889891.0  Longitudinal survey of Plasmodium falciparum i...   \n",
       "1  19889891.0  Longitudinal survey of Plasmodium falciparum i...   \n",
       "2  19889891.0  Longitudinal survey of Plasmodium falciparum i...   \n",
       "\n",
       "           drug marker group percentage included or excluded  \n",
       "0  Lumefantrine  pfcrt 76K/T       13.0                  NaN  \n",
       "1  Lumefantrine  pfcrt 76K/T       13.0                  NaN  \n",
       "2  Lumefantrine  pfcrt 76K/T       13.0                  NaN  \n",
       "\n",
       "[3 rows x 22 columns]"
      ]
     },
     "execution_count": 22,
     "metadata": {},
     "output_type": "execute_result"
    }
   ],
   "source": [
    "## Show just the header and the top three rows\n",
    "partner.head(3)"
   ]
  },
  {
   "cell_type": "code",
   "execution_count": 23,
   "metadata": {
    "collapsed": false
   },
   "outputs": [
    {
     "name": "stdout",
     "output_type": "stream",
     "text": [
      "There are 1399 rows\n"
     ]
    }
   ],
   "source": [
    "print \"There are\", len(partner), \"rows\""
   ]
  },
  {
   "cell_type": "code",
   "execution_count": 24,
   "metadata": {
    "collapsed": false
   },
   "outputs": [
    {
     "name": "stdout",
     "output_type": "stream",
     "text": [
      "The columns names are: \n",
      "\n",
      "study Id, site number, country, site, lon, lat, study start, study end, marker type, tested, present, Mixed present, author, publication year, publication URL, title, notes, pubmed Id, drug, marker group, percentage, included or excluded\n"
     ]
    }
   ],
   "source": [
    "print \"The columns names are: \\n\\n\", \", \".join(partner.columns.values.tolist())"
   ]
  },
  {
   "cell_type": "markdown",
   "metadata": {
    "collapsed": true
   },
   "source": [
    "### Exclude percentage 0%"
   ]
  },
  {
   "cell_type": "code",
   "execution_count": 25,
   "metadata": {
    "collapsed": true
   },
   "outputs": [],
   "source": [
    "partner_percentage = partner[ partner.percentage > 0 ]"
   ]
  },
  {
   "cell_type": "code",
   "execution_count": 26,
   "metadata": {
    "collapsed": false
   },
   "outputs": [
    {
     "name": "stdout",
     "output_type": "stream",
     "text": [
      "There are now 910 rows\n"
     ]
    }
   ],
   "source": [
    "print \"There are now\", len(partner_percentage), \"rows\""
   ]
  },
  {
   "cell_type": "code",
   "execution_count": 27,
   "metadata": {
    "collapsed": false
   },
   "outputs": [
    {
     "data": {
      "text/plain": [
       "count    910.000000\n",
       "mean      55.265934\n",
       "std       40.155195\n",
       "min        1.000000\n",
       "25%       13.000000\n",
       "50%       50.000000\n",
       "75%      100.000000\n",
       "max      175.000000\n",
       "Name: percentage, dtype: float64"
      ]
     },
     "execution_count": 27,
     "metadata": {},
     "output_type": "execute_result"
    }
   ],
   "source": [
    "## Check that the minimum value is greater than 0\n",
    "partner_percentage.percentage.describe()"
   ]
  },
  {
   "cell_type": "markdown",
   "metadata": {},
   "source": [
    "### Include only Pfmdr and Pfpm copy number >1 (this would include =2, =3, etc)"
   ]
  },
  {
   "cell_type": "code",
   "execution_count": 28,
   "metadata": {
    "collapsed": false
   },
   "outputs": [
    {
     "name": "stdout",
     "output_type": "stream",
     "text": [
      "The complete list of marke groups is: \n",
      "\n",
      "pfcrt 76K/T, pfcrt 72-76 CxxxK, pfcrt K76, pfmdr1 184F, pfmdr1 184Y/F, pfmdr1 86N/Y, pfmdr1 copy number >1, pfpm2 copy number >1, pfmdr1 D1246, pfmdr1 N1042, pfmdr1 N86, pfmdr1 NFD, pfmdr1 S1034, pfcrt 76T, pfcrt 72-76 CxxxT, pfcrt 72-76 SxxxT, pfmdr1 1246Y, pfmdr1 86Y, pfmdr1 Y184, pfpm2 copy number=1\n"
     ]
    }
   ],
   "source": [
    "print \"The complete list of marke groups is: \\n\\n\", \", \".join(partner_percentage[\"marker group\"].unique().tolist())"
   ]
  },
  {
   "cell_type": "code",
   "execution_count": 29,
   "metadata": {
    "collapsed": true
   },
   "outputs": [],
   "source": [
    "## Only include 'pfmdr1 copy number >1' and 'pfpm2 copy number >1'\n",
    "partner_percentage_marker_group = partner_percentage[\n",
    "    (partner_percentage[\"marker group\"] == 'pfmdr1 copy number >1')\n",
    "    | (partner_percentage[\"marker group\"] == 'pfpm2 copy number >1')\n",
    "]"
   ]
  },
  {
   "cell_type": "code",
   "execution_count": 30,
   "metadata": {
    "collapsed": false
   },
   "outputs": [
    {
     "name": "stdout",
     "output_type": "stream",
     "text": [
      "Now the list of marker groups is: \n",
      "\n",
      "pfmdr1 copy number >1, pfpm2 copy number >1\n"
     ]
    }
   ],
   "source": [
    "print \"Now the list of marker groups is: \\n\\n\", \", \".join(partner_percentage_marker_group[\"marker group\"].unique().tolist())"
   ]
  },
  {
   "cell_type": "code",
   "execution_count": 31,
   "metadata": {
    "collapsed": false
   },
   "outputs": [
    {
     "name": "stdout",
     "output_type": "stream",
     "text": [
      "There are now 327 rows\n"
     ]
    }
   ],
   "source": [
    "print \"There are now\", len(partner_percentage_marker_group), \"rows\""
   ]
  },
  {
   "cell_type": "markdown",
   "metadata": {},
   "source": [
    "### Exclude sample size less than 20"
   ]
  },
  {
   "cell_type": "code",
   "execution_count": 32,
   "metadata": {
    "collapsed": false
   },
   "outputs": [],
   "source": [
    "## Keep only the rows where tested >= 20\n",
    "partner_percentage_marker_group_size = partner_percentage_marker_group[\n",
    "    partner_percentage_marker_group.tested >= 20 \n",
    "]"
   ]
  },
  {
   "cell_type": "code",
   "execution_count": 33,
   "metadata": {
    "collapsed": false
   },
   "outputs": [
    {
     "name": "stdout",
     "output_type": "stream",
     "text": [
      "There are now 258 rows\n"
     ]
    }
   ],
   "source": [
    "print \"There are now\", len(partner_percentage_marker_group_size), \"rows\""
   ]
  },
  {
   "cell_type": "code",
   "execution_count": 34,
   "metadata": {
    "collapsed": false
   },
   "outputs": [
    {
     "data": {
      "text/plain": [
       "count    258.000000\n",
       "mean      86.461240\n",
       "std       93.998967\n",
       "min       20.000000\n",
       "25%       36.000000\n",
       "50%       60.000000\n",
       "75%      102.000000\n",
       "max      712.000000\n",
       "Name: tested, dtype: float64"
      ]
     },
     "execution_count": 34,
     "metadata": {},
     "output_type": "execute_result"
    }
   ],
   "source": [
    "## Check that the minimun number is greater than or equal to 20\n",
    "partner_percentage_marker_group_size.tested.describe()"
   ]
  },
  {
   "cell_type": "markdown",
   "metadata": {},
   "source": [
    "### Exclue prevalence less than 5%\n",
    "\n",
    "Prevalence is present / tested"
   ]
  },
  {
   "cell_type": "code",
   "execution_count": 35,
   "metadata": {
    "collapsed": true
   },
   "outputs": [],
   "source": [
    "partner_percentage_marker_group_size_prevalence = partner_percentage_marker_group_size[\n",
    "    (partner_percentage_marker_group_size.present / partner_percentage_marker_group_size.tested) >= 0.05\n",
    "]"
   ]
  },
  {
   "cell_type": "code",
   "execution_count": 36,
   "metadata": {
    "collapsed": false
   },
   "outputs": [
    {
     "name": "stdout",
     "output_type": "stream",
     "text": [
      "There are now 172 rows\n"
     ]
    }
   ],
   "source": [
    "print \"There are now\", len(partner_percentage_marker_group_size_prevalence), \"rows\""
   ]
  },
  {
   "cell_type": "code",
   "execution_count": 37,
   "metadata": {
    "collapsed": true
   },
   "outputs": [],
   "source": [
    "## Check that the minimum prevalence is greater or equal to 5%\n",
    "partner_prevalence = (partner_percentage_marker_group_size_prevalence.loc[:,\"present\"] / partner_percentage_marker_group_size_prevalence.loc[:,\"tested\"])* 100"
   ]
  },
  {
   "cell_type": "code",
   "execution_count": 38,
   "metadata": {
    "collapsed": false
   },
   "outputs": [
    {
     "data": {
      "text/plain": [
       "count    172.000000\n",
       "mean      21.391437\n",
       "std       15.516442\n",
       "min        5.000000\n",
       "25%        8.905391\n",
       "50%       16.552511\n",
       "75%       29.605993\n",
       "max       70.000000\n",
       "dtype: float64"
      ]
     },
     "execution_count": 38,
     "metadata": {},
     "output_type": "execute_result"
    }
   ],
   "source": [
    "partner_prevalence.describe()"
   ]
  },
  {
   "cell_type": "markdown",
   "metadata": {},
   "source": [
    "## Join the two datasets together"
   ]
  },
  {
   "cell_type": "code",
   "execution_count": 39,
   "metadata": {
    "collapsed": true
   },
   "outputs": [],
   "source": [
    "## Create a new data frame from the k13 table with just the lon, lat and year columns\n",
    "## add a new column call resistance_type\n",
    "k13_edit = k13_countries_val_mutations_size_prevalence[[\"lon\",\"lat\",\"year\"]].assign(resistance_type=\"k13\")"
   ]
  },
  {
   "cell_type": "code",
   "execution_count": 40,
   "metadata": {
    "collapsed": false
   },
   "outputs": [
    {
     "data": {
      "text/html": [
       "<div>\n",
       "<table border=\"1\" class=\"dataframe\">\n",
       "  <thead>\n",
       "    <tr style=\"text-align: right;\">\n",
       "      <th></th>\n",
       "      <th>lon</th>\n",
       "      <th>lat</th>\n",
       "      <th>year</th>\n",
       "      <th>resistance_type</th>\n",
       "    </tr>\n",
       "  </thead>\n",
       "  <tbody>\n",
       "    <tr>\n",
       "      <th>27</th>\n",
       "      <td>98.121568</td>\n",
       "      <td>16.040823</td>\n",
       "      <td>2013</td>\n",
       "      <td>k13</td>\n",
       "    </tr>\n",
       "    <tr>\n",
       "      <th>38</th>\n",
       "      <td>98.121568</td>\n",
       "      <td>16.040823</td>\n",
       "      <td>2014</td>\n",
       "      <td>k13</td>\n",
       "    </tr>\n",
       "    <tr>\n",
       "      <th>72</th>\n",
       "      <td>98.711517</td>\n",
       "      <td>16.297060</td>\n",
       "      <td>2013</td>\n",
       "      <td>k13</td>\n",
       "    </tr>\n",
       "  </tbody>\n",
       "</table>\n",
       "</div>"
      ],
      "text/plain": [
       "          lon        lat  year resistance_type\n",
       "27  98.121568  16.040823  2013             k13\n",
       "38  98.121568  16.040823  2014             k13\n",
       "72  98.711517  16.297060  2013             k13"
      ]
     },
     "execution_count": 40,
     "metadata": {},
     "output_type": "execute_result"
    }
   ],
   "source": [
    "# Print just the headers and the first three rows\n",
    "k13_edit.head(3)"
   ]
  },
  {
   "cell_type": "code",
   "execution_count": 41,
   "metadata": {
    "collapsed": false
   },
   "outputs": [
    {
     "name": "stdout",
     "output_type": "stream",
     "text": [
      "Does the table have any empty cells? \n",
      "False\n"
     ]
    }
   ],
   "source": [
    "## Check if we have any empty cells\n",
    "print \"Does the table have any empty cells? \\n\", k13_edit.isnull().values.any()"
   ]
  },
  {
   "cell_type": "code",
   "execution_count": 42,
   "metadata": {
    "collapsed": false
   },
   "outputs": [
    {
     "name": "stdout",
     "output_type": "stream",
     "text": [
      "There are 80 rows\n"
     ]
    }
   ],
   "source": [
    "print \"There are\", len(k13_edit), \"rows\""
   ]
  },
  {
   "cell_type": "code",
   "execution_count": 43,
   "metadata": {
    "collapsed": true
   },
   "outputs": [],
   "source": [
    "## Create a new data frame from the partner table with just the lon, lat and year columns\n",
    "## add a new column call resistance_type\n",
    "partner_edit = partner_percentage_marker_group_size_prevalence[[\"lon\",\"lat\",\"publication year\"]].assign(resistance_type=\"partner\")"
   ]
  },
  {
   "cell_type": "code",
   "execution_count": 44,
   "metadata": {
    "collapsed": false
   },
   "outputs": [],
   "source": [
    "## Rename the 'publication year' column as 'year' to match the k13 table\n",
    "partner_edit.rename(index=str, columns={\"publication year\": \"year\"}, inplace=True)"
   ]
  },
  {
   "cell_type": "code",
   "execution_count": 45,
   "metadata": {
    "collapsed": false
   },
   "outputs": [
    {
     "data": {
      "text/html": [
       "<div>\n",
       "<table border=\"1\" class=\"dataframe\">\n",
       "  <thead>\n",
       "    <tr style=\"text-align: right;\">\n",
       "      <th></th>\n",
       "      <th>lon</th>\n",
       "      <th>lat</th>\n",
       "      <th>year</th>\n",
       "      <th>resistance_type</th>\n",
       "    </tr>\n",
       "  </thead>\n",
       "  <tbody>\n",
       "    <tr>\n",
       "      <th>131</th>\n",
       "      <td>102.668</td>\n",
       "      <td>12.9093</td>\n",
       "      <td>2009.0</td>\n",
       "      <td>partner</td>\n",
       "    </tr>\n",
       "    <tr>\n",
       "      <th>132</th>\n",
       "      <td>102.668</td>\n",
       "      <td>12.9093</td>\n",
       "      <td>2013.0</td>\n",
       "      <td>partner</td>\n",
       "    </tr>\n",
       "    <tr>\n",
       "      <th>133</th>\n",
       "      <td>102.668</td>\n",
       "      <td>12.9093</td>\n",
       "      <td>2013.0</td>\n",
       "      <td>partner</td>\n",
       "    </tr>\n",
       "  </tbody>\n",
       "</table>\n",
       "</div>"
      ],
      "text/plain": [
       "         lon      lat    year resistance_type\n",
       "131  102.668  12.9093  2009.0         partner\n",
       "132  102.668  12.9093  2013.0         partner\n",
       "133  102.668  12.9093  2013.0         partner"
      ]
     },
     "execution_count": 45,
     "metadata": {},
     "output_type": "execute_result"
    }
   ],
   "source": [
    "## Print just the headers and the first three rows\n",
    "partner_edit.head(3)"
   ]
  },
  {
   "cell_type": "code",
   "execution_count": 46,
   "metadata": {
    "collapsed": false
   },
   "outputs": [
    {
     "name": "stdout",
     "output_type": "stream",
     "text": [
      "Does the table have any empty cells? \n",
      "True\n"
     ]
    }
   ],
   "source": [
    "## Check if we have any empty cells\n",
    "print \"Does the table have any empty cells? \\n\", partner_edit.isnull().values.any()"
   ]
  },
  {
   "cell_type": "code",
   "execution_count": 47,
   "metadata": {
    "collapsed": true
   },
   "outputs": [],
   "source": [
    "## Remove the empty cells\n",
    "partner_edit.dropna(inplace=True)"
   ]
  },
  {
   "cell_type": "code",
   "execution_count": 48,
   "metadata": {
    "collapsed": false
   },
   "outputs": [
    {
     "name": "stdout",
     "output_type": "stream",
     "text": [
      "Does the table have any empty cells? \n",
      "False\n"
     ]
    }
   ],
   "source": [
    "print \"Does the table have any empty cells? \\n\", partner_edit.isnull().values.any()"
   ]
  },
  {
   "cell_type": "code",
   "execution_count": 49,
   "metadata": {
    "collapsed": false
   },
   "outputs": [],
   "source": [
    "## Convert the year column to integers to match k13\n",
    "partner_edit.year = partner_edit.year.astype('int32')"
   ]
  },
  {
   "cell_type": "code",
   "execution_count": 50,
   "metadata": {
    "collapsed": false
   },
   "outputs": [
    {
     "data": {
      "text/html": [
       "<div>\n",
       "<table border=\"1\" class=\"dataframe\">\n",
       "  <thead>\n",
       "    <tr style=\"text-align: right;\">\n",
       "      <th></th>\n",
       "      <th>lon</th>\n",
       "      <th>lat</th>\n",
       "      <th>year</th>\n",
       "      <th>resistance_type</th>\n",
       "    </tr>\n",
       "  </thead>\n",
       "  <tbody>\n",
       "    <tr>\n",
       "      <th>131</th>\n",
       "      <td>102.668</td>\n",
       "      <td>12.9093</td>\n",
       "      <td>2009</td>\n",
       "      <td>partner</td>\n",
       "    </tr>\n",
       "    <tr>\n",
       "      <th>132</th>\n",
       "      <td>102.668</td>\n",
       "      <td>12.9093</td>\n",
       "      <td>2013</td>\n",
       "      <td>partner</td>\n",
       "    </tr>\n",
       "    <tr>\n",
       "      <th>133</th>\n",
       "      <td>102.668</td>\n",
       "      <td>12.9093</td>\n",
       "      <td>2013</td>\n",
       "      <td>partner</td>\n",
       "    </tr>\n",
       "  </tbody>\n",
       "</table>\n",
       "</div>"
      ],
      "text/plain": [
       "         lon      lat  year resistance_type\n",
       "131  102.668  12.9093  2009         partner\n",
       "132  102.668  12.9093  2013         partner\n",
       "133  102.668  12.9093  2013         partner"
      ]
     },
     "execution_count": 50,
     "metadata": {},
     "output_type": "execute_result"
    }
   ],
   "source": [
    "partner_edit.head(3)"
   ]
  },
  {
   "cell_type": "code",
   "execution_count": 51,
   "metadata": {
    "collapsed": false
   },
   "outputs": [
    {
     "name": "stdout",
     "output_type": "stream",
     "text": [
      "There are 156 rows\n"
     ]
    }
   ],
   "source": [
    "print \"There are\", len(partner_edit), \"rows\""
   ]
  },
  {
   "cell_type": "code",
   "execution_count": 52,
   "metadata": {
    "collapsed": true
   },
   "outputs": [],
   "source": [
    "## Join k13_edit and partner_edit together \n",
    "malaria_concat = pd.concat([k13_edit, partner_edit])"
   ]
  },
  {
   "cell_type": "code",
   "execution_count": 53,
   "metadata": {
    "collapsed": false
   },
   "outputs": [
    {
     "name": "stdout",
     "output_type": "stream",
     "text": [
      "There are 236 rows\n"
     ]
    }
   ],
   "source": [
    "print \"There are\", len(malaria_concat), \"rows\""
   ]
  },
  {
   "cell_type": "code",
   "execution_count": 54,
   "metadata": {
    "collapsed": false
   },
   "outputs": [
    {
     "data": {
      "text/html": [
       "<div>\n",
       "<table border=\"1\" class=\"dataframe\">\n",
       "  <thead>\n",
       "    <tr style=\"text-align: right;\">\n",
       "      <th></th>\n",
       "      <th>lon</th>\n",
       "      <th>lat</th>\n",
       "      <th>year</th>\n",
       "      <th>resistance_type</th>\n",
       "    </tr>\n",
       "  </thead>\n",
       "  <tbody>\n",
       "    <tr>\n",
       "      <th>300</th>\n",
       "      <td>102.607780</td>\n",
       "      <td>12.85811</td>\n",
       "      <td>2002</td>\n",
       "      <td>k13</td>\n",
       "    </tr>\n",
       "    <tr>\n",
       "      <th>332</th>\n",
       "      <td>103.202003</td>\n",
       "      <td>13.10280</td>\n",
       "      <td>2002</td>\n",
       "      <td>k13</td>\n",
       "    </tr>\n",
       "    <tr>\n",
       "      <th>301</th>\n",
       "      <td>102.607780</td>\n",
       "      <td>12.85811</td>\n",
       "      <td>2002</td>\n",
       "      <td>k13</td>\n",
       "    </tr>\n",
       "    <tr>\n",
       "      <th>305</th>\n",
       "      <td>102.607780</td>\n",
       "      <td>12.85811</td>\n",
       "      <td>2004</td>\n",
       "      <td>k13</td>\n",
       "    </tr>\n",
       "    <tr>\n",
       "      <th>306</th>\n",
       "      <td>102.607780</td>\n",
       "      <td>12.85811</td>\n",
       "      <td>2004</td>\n",
       "      <td>k13</td>\n",
       "    </tr>\n",
       "  </tbody>\n",
       "</table>\n",
       "</div>"
      ],
      "text/plain": [
       "            lon       lat  year resistance_type\n",
       "300  102.607780  12.85811  2002             k13\n",
       "332  103.202003  13.10280  2002             k13\n",
       "301  102.607780  12.85811  2002             k13\n",
       "305  102.607780  12.85811  2004             k13\n",
       "306  102.607780  12.85811  2004             k13"
      ]
     },
     "execution_count": 54,
     "metadata": {},
     "output_type": "execute_result"
    }
   ],
   "source": [
    "## Sort the rows by ascending year\n",
    "malaria_concat.sort_values(by=[\"year\"], inplace=True)\n",
    "malaria_concat.head()"
   ]
  },
  {
   "cell_type": "code",
   "execution_count": 55,
   "metadata": {
    "collapsed": false
   },
   "outputs": [
    {
     "data": {
      "text/html": [
       "<div>\n",
       "<table border=\"1\" class=\"dataframe\">\n",
       "  <thead>\n",
       "    <tr style=\"text-align: right;\">\n",
       "      <th></th>\n",
       "      <th>lon</th>\n",
       "      <th>lat</th>\n",
       "      <th>year</th>\n",
       "      <th>resistance_type</th>\n",
       "    </tr>\n",
       "  </thead>\n",
       "  <tbody>\n",
       "    <tr>\n",
       "      <th>0</th>\n",
       "      <td>102.607780</td>\n",
       "      <td>12.85811</td>\n",
       "      <td>2002</td>\n",
       "      <td>k13</td>\n",
       "    </tr>\n",
       "    <tr>\n",
       "      <th>1</th>\n",
       "      <td>103.202003</td>\n",
       "      <td>13.10280</td>\n",
       "      <td>2002</td>\n",
       "      <td>k13</td>\n",
       "    </tr>\n",
       "    <tr>\n",
       "      <th>2</th>\n",
       "      <td>102.607780</td>\n",
       "      <td>12.85811</td>\n",
       "      <td>2002</td>\n",
       "      <td>k13</td>\n",
       "    </tr>\n",
       "    <tr>\n",
       "      <th>3</th>\n",
       "      <td>102.607780</td>\n",
       "      <td>12.85811</td>\n",
       "      <td>2004</td>\n",
       "      <td>k13</td>\n",
       "    </tr>\n",
       "    <tr>\n",
       "      <th>4</th>\n",
       "      <td>102.607780</td>\n",
       "      <td>12.85811</td>\n",
       "      <td>2004</td>\n",
       "      <td>k13</td>\n",
       "    </tr>\n",
       "  </tbody>\n",
       "</table>\n",
       "</div>"
      ],
      "text/plain": [
       "          lon       lat  year resistance_type\n",
       "0  102.607780  12.85811  2002             k13\n",
       "1  103.202003  13.10280  2002             k13\n",
       "2  102.607780  12.85811  2002             k13\n",
       "3  102.607780  12.85811  2004             k13\n",
       "4  102.607780  12.85811  2004             k13"
      ]
     },
     "execution_count": 55,
     "metadata": {},
     "output_type": "execute_result"
    }
   ],
   "source": [
    "# Reset the index to start at 0\n",
    "malaria_concat.reset_index(drop=True, inplace=True)\n",
    "malaria_concat.head()"
   ]
  },
  {
   "cell_type": "markdown",
   "metadata": {},
   "source": [
    "## Remove any duplicate rows\n",
    "\n",
    "Where all the columns excactly match"
   ]
  },
  {
   "cell_type": "code",
   "execution_count": 56,
   "metadata": {
    "collapsed": true
   },
   "outputs": [],
   "source": [
    "malaria_concat.drop_duplicates(inplace=True)"
   ]
  },
  {
   "cell_type": "code",
   "execution_count": 57,
   "metadata": {
    "collapsed": false
   },
   "outputs": [
    {
     "data": {
      "text/html": [
       "<div>\n",
       "<table border=\"1\" class=\"dataframe\">\n",
       "  <thead>\n",
       "    <tr style=\"text-align: right;\">\n",
       "      <th></th>\n",
       "      <th>lon</th>\n",
       "      <th>lat</th>\n",
       "      <th>year</th>\n",
       "      <th>resistance_type</th>\n",
       "    </tr>\n",
       "  </thead>\n",
       "  <tbody>\n",
       "    <tr>\n",
       "      <th>0</th>\n",
       "      <td>102.607780</td>\n",
       "      <td>12.85811</td>\n",
       "      <td>2002</td>\n",
       "      <td>k13</td>\n",
       "    </tr>\n",
       "    <tr>\n",
       "      <th>1</th>\n",
       "      <td>103.202003</td>\n",
       "      <td>13.10280</td>\n",
       "      <td>2002</td>\n",
       "      <td>k13</td>\n",
       "    </tr>\n",
       "    <tr>\n",
       "      <th>3</th>\n",
       "      <td>102.607780</td>\n",
       "      <td>12.85811</td>\n",
       "      <td>2004</td>\n",
       "      <td>k13</td>\n",
       "    </tr>\n",
       "    <tr>\n",
       "      <th>5</th>\n",
       "      <td>98.626700</td>\n",
       "      <td>19.71390</td>\n",
       "      <td>2004</td>\n",
       "      <td>partner</td>\n",
       "    </tr>\n",
       "    <tr>\n",
       "      <th>7</th>\n",
       "      <td>98.474700</td>\n",
       "      <td>15.26560</td>\n",
       "      <td>2005</td>\n",
       "      <td>partner</td>\n",
       "    </tr>\n",
       "  </tbody>\n",
       "</table>\n",
       "</div>"
      ],
      "text/plain": [
       "          lon       lat  year resistance_type\n",
       "0  102.607780  12.85811  2002             k13\n",
       "1  103.202003  13.10280  2002             k13\n",
       "3  102.607780  12.85811  2004             k13\n",
       "5   98.626700  19.71390  2004         partner\n",
       "7   98.474700  15.26560  2005         partner"
      ]
     },
     "execution_count": 57,
     "metadata": {},
     "output_type": "execute_result"
    }
   ],
   "source": [
    "malaria_concat.head()"
   ]
  },
  {
   "cell_type": "code",
   "execution_count": 170,
   "metadata": {
    "collapsed": false
   },
   "outputs": [
    {
     "name": "stdout",
     "output_type": "stream",
     "text": [
      "There are now 110 rows\n"
     ]
    }
   ],
   "source": [
    "print \"There are now\", len(malaria_concat), \"rows\""
   ]
  },
  {
   "cell_type": "markdown",
   "metadata": {},
   "source": [
    "## Export a CSV of each year before bracketing"
   ]
  },
  {
   "cell_type": "code",
   "execution_count": 58,
   "metadata": {
    "collapsed": true
   },
   "outputs": [],
   "source": [
    "malaria_concat.to_csv(\"data/malaria_by_year.csv\", index=False)"
   ]
  },
  {
   "cell_type": "markdown",
   "metadata": {},
   "source": [
    "## Split the table into year brackets\n",
    "\n",
    "2001-2005, 2006-2010, 2011-2015 and 2016-2017"
   ]
  },
  {
   "cell_type": "code",
   "execution_count": 183,
   "metadata": {
    "collapsed": false
   },
   "outputs": [],
   "source": [
    "bins = [2000, 2005, 2010, 2015, 2020]\n",
    "names = [\"2001-2005\", \"2006-2010\", \"2011-2015\", \"2016-2017\"]\n",
    "malaria_concat[\"year_bracket\"] = pd.cut(malaria_concat.year, bins, labels=names)"
   ]
  },
  {
   "cell_type": "code",
   "execution_count": 187,
   "metadata": {
    "collapsed": false
   },
   "outputs": [
    {
     "data": {
      "text/html": [
       "<div>\n",
       "<table border=\"1\" class=\"dataframe\">\n",
       "  <thead>\n",
       "    <tr style=\"text-align: right;\">\n",
       "      <th></th>\n",
       "      <th>lon</th>\n",
       "      <th>lat</th>\n",
       "      <th>year</th>\n",
       "      <th>resistance_type</th>\n",
       "      <th>year_bracket</th>\n",
       "    </tr>\n",
       "  </thead>\n",
       "  <tbody>\n",
       "    <tr>\n",
       "      <th>0</th>\n",
       "      <td>102.607780</td>\n",
       "      <td>12.85811</td>\n",
       "      <td>2002</td>\n",
       "      <td>k13</td>\n",
       "      <td>2001-2005</td>\n",
       "    </tr>\n",
       "    <tr>\n",
       "      <th>1</th>\n",
       "      <td>103.202003</td>\n",
       "      <td>13.10280</td>\n",
       "      <td>2002</td>\n",
       "      <td>k13</td>\n",
       "      <td>2001-2005</td>\n",
       "    </tr>\n",
       "    <tr>\n",
       "      <th>3</th>\n",
       "      <td>102.607780</td>\n",
       "      <td>12.85811</td>\n",
       "      <td>2004</td>\n",
       "      <td>k13</td>\n",
       "      <td>2001-2005</td>\n",
       "    </tr>\n",
       "    <tr>\n",
       "      <th>5</th>\n",
       "      <td>98.626700</td>\n",
       "      <td>19.71390</td>\n",
       "      <td>2004</td>\n",
       "      <td>partner</td>\n",
       "      <td>2001-2005</td>\n",
       "    </tr>\n",
       "    <tr>\n",
       "      <th>7</th>\n",
       "      <td>98.474700</td>\n",
       "      <td>15.26560</td>\n",
       "      <td>2005</td>\n",
       "      <td>partner</td>\n",
       "      <td>2001-2005</td>\n",
       "    </tr>\n",
       "    <tr>\n",
       "      <th>8</th>\n",
       "      <td>102.607780</td>\n",
       "      <td>12.85811</td>\n",
       "      <td>2006</td>\n",
       "      <td>k13</td>\n",
       "      <td>2006-2010</td>\n",
       "    </tr>\n",
       "    <tr>\n",
       "      <th>10</th>\n",
       "      <td>98.626700</td>\n",
       "      <td>19.71390</td>\n",
       "      <td>2006</td>\n",
       "      <td>partner</td>\n",
       "      <td>2006-2010</td>\n",
       "    </tr>\n",
       "    <tr>\n",
       "      <th>12</th>\n",
       "      <td>99.532799</td>\n",
       "      <td>14.02280</td>\n",
       "      <td>2007</td>\n",
       "      <td>k13</td>\n",
       "      <td>2006-2010</td>\n",
       "    </tr>\n",
       "    <tr>\n",
       "      <th>13</th>\n",
       "      <td>100.852000</td>\n",
       "      <td>14.48460</td>\n",
       "      <td>2007</td>\n",
       "      <td>partner</td>\n",
       "      <td>2006-2010</td>\n",
       "    </tr>\n",
       "    <tr>\n",
       "      <th>14</th>\n",
       "      <td>98.608498</td>\n",
       "      <td>9.95287</td>\n",
       "      <td>2007</td>\n",
       "      <td>k13</td>\n",
       "      <td>2006-2010</td>\n",
       "    </tr>\n",
       "  </tbody>\n",
       "</table>\n",
       "</div>"
      ],
      "text/plain": [
       "           lon       lat  year resistance_type year_bracket\n",
       "0   102.607780  12.85811  2002             k13    2001-2005\n",
       "1   103.202003  13.10280  2002             k13    2001-2005\n",
       "3   102.607780  12.85811  2004             k13    2001-2005\n",
       "5    98.626700  19.71390  2004         partner    2001-2005\n",
       "7    98.474700  15.26560  2005         partner    2001-2005\n",
       "8   102.607780  12.85811  2006             k13    2006-2010\n",
       "10   98.626700  19.71390  2006         partner    2006-2010\n",
       "12   99.532799  14.02280  2007             k13    2006-2010\n",
       "13  100.852000  14.48460  2007         partner    2006-2010\n",
       "14   98.608498   9.95287  2007             k13    2006-2010"
      ]
     },
     "execution_count": 187,
     "metadata": {},
     "output_type": "execute_result"
    }
   ],
   "source": [
    "malaria_concat.head(10)"
   ]
  },
  {
   "cell_type": "code",
   "execution_count": 193,
   "metadata": {
    "collapsed": false
   },
   "outputs": [],
   "source": [
    "malaria_concat[\"test\"] = malaria_concat.apply(lambda x: (str(x.lon) + \" \"+ str(x.lat) + \" \" + x.resistance_type + \" \" + x.year_bracket), axis=1)"
   ]
  },
  {
   "cell_type": "code",
   "execution_count": 194,
   "metadata": {
    "collapsed": false
   },
   "outputs": [
    {
     "data": {
      "text/html": [
       "<div>\n",
       "<table border=\"1\" class=\"dataframe\">\n",
       "  <thead>\n",
       "    <tr style=\"text-align: right;\">\n",
       "      <th></th>\n",
       "      <th>lon</th>\n",
       "      <th>lat</th>\n",
       "      <th>year</th>\n",
       "      <th>resistance_type</th>\n",
       "      <th>year_bracket</th>\n",
       "      <th>test</th>\n",
       "    </tr>\n",
       "  </thead>\n",
       "  <tbody>\n",
       "    <tr>\n",
       "      <th>0</th>\n",
       "      <td>102.607780</td>\n",
       "      <td>12.85811</td>\n",
       "      <td>2002</td>\n",
       "      <td>k13</td>\n",
       "      <td>2001-2005</td>\n",
       "      <td>102.607780457 12.8581104279 k13 2001-2005</td>\n",
       "    </tr>\n",
       "    <tr>\n",
       "      <th>1</th>\n",
       "      <td>103.202003</td>\n",
       "      <td>13.10280</td>\n",
       "      <td>2002</td>\n",
       "      <td>k13</td>\n",
       "      <td>2001-2005</td>\n",
       "      <td>103.202003479 13.1028003693 k13 2001-2005</td>\n",
       "    </tr>\n",
       "    <tr>\n",
       "      <th>3</th>\n",
       "      <td>102.607780</td>\n",
       "      <td>12.85811</td>\n",
       "      <td>2004</td>\n",
       "      <td>k13</td>\n",
       "      <td>2001-2005</td>\n",
       "      <td>102.607780457 12.8581104279 k13 2001-2005</td>\n",
       "    </tr>\n",
       "    <tr>\n",
       "      <th>5</th>\n",
       "      <td>98.626700</td>\n",
       "      <td>19.71390</td>\n",
       "      <td>2004</td>\n",
       "      <td>partner</td>\n",
       "      <td>2001-2005</td>\n",
       "      <td>98.6267 19.7139 partner 2001-2005</td>\n",
       "    </tr>\n",
       "    <tr>\n",
       "      <th>7</th>\n",
       "      <td>98.474700</td>\n",
       "      <td>15.26560</td>\n",
       "      <td>2005</td>\n",
       "      <td>partner</td>\n",
       "      <td>2001-2005</td>\n",
       "      <td>98.4747 15.2656 partner 2001-2005</td>\n",
       "    </tr>\n",
       "  </tbody>\n",
       "</table>\n",
       "</div>"
      ],
      "text/plain": [
       "          lon       lat  year resistance_type year_bracket  \\\n",
       "0  102.607780  12.85811  2002             k13    2001-2005   \n",
       "1  103.202003  13.10280  2002             k13    2001-2005   \n",
       "3  102.607780  12.85811  2004             k13    2001-2005   \n",
       "5   98.626700  19.71390  2004         partner    2001-2005   \n",
       "7   98.474700  15.26560  2005         partner    2001-2005   \n",
       "\n",
       "                                        test  \n",
       "0  102.607780457 12.8581104279 k13 2001-2005  \n",
       "1  103.202003479 13.1028003693 k13 2001-2005  \n",
       "3  102.607780457 12.8581104279 k13 2001-2005  \n",
       "5          98.6267 19.7139 partner 2001-2005  \n",
       "7          98.4747 15.2656 partner 2001-2005  "
      ]
     },
     "execution_count": 194,
     "metadata": {},
     "output_type": "execute_result"
    }
   ],
   "source": [
    "malaria_concat.head()"
   ]
  },
  {
   "cell_type": "markdown",
   "metadata": {},
   "source": [
    "## Remove duplicates where position, resistance type and year bracket match"
   ]
  },
  {
   "cell_type": "code",
   "execution_count": 195,
   "metadata": {
    "collapsed": false
   },
   "outputs": [
    {
     "name": "stdout",
     "output_type": "stream",
     "text": [
      "There are 110 rows\n"
     ]
    }
   ],
   "source": [
    "print \"There are\", len(malaria_concat), \"rows\""
   ]
  },
  {
   "cell_type": "code",
   "execution_count": 200,
   "metadata": {
    "collapsed": true
   },
   "outputs": [],
   "source": [
    "malaria_concat.drop_duplicates(subset=[\"test\"], inplace=True)"
   ]
  },
  {
   "cell_type": "code",
   "execution_count": 201,
   "metadata": {
    "collapsed": false
   },
   "outputs": [
    {
     "name": "stdout",
     "output_type": "stream",
     "text": [
      "There are now 82 rows\n"
     ]
    }
   ],
   "source": [
    "print \"There are now\", len(malaria_concat), \"rows\""
   ]
  },
  {
   "cell_type": "code",
   "execution_count": 202,
   "metadata": {
    "collapsed": true
   },
   "outputs": [],
   "source": [
    "## Remove the test column\n",
    "malaria_concat.drop([\"test\"], axis=1, inplace=True)"
   ]
  },
  {
   "cell_type": "code",
   "execution_count": 203,
   "metadata": {
    "collapsed": false
   },
   "outputs": [
    {
     "data": {
      "text/html": [
       "<div>\n",
       "<table border=\"1\" class=\"dataframe\">\n",
       "  <thead>\n",
       "    <tr style=\"text-align: right;\">\n",
       "      <th></th>\n",
       "      <th>lon</th>\n",
       "      <th>lat</th>\n",
       "      <th>year</th>\n",
       "      <th>resistance_type</th>\n",
       "      <th>year_bracket</th>\n",
       "    </tr>\n",
       "  </thead>\n",
       "  <tbody>\n",
       "    <tr>\n",
       "      <th>0</th>\n",
       "      <td>102.607780</td>\n",
       "      <td>12.85811</td>\n",
       "      <td>2002</td>\n",
       "      <td>k13</td>\n",
       "      <td>2001-2005</td>\n",
       "    </tr>\n",
       "    <tr>\n",
       "      <th>1</th>\n",
       "      <td>103.202003</td>\n",
       "      <td>13.10280</td>\n",
       "      <td>2002</td>\n",
       "      <td>k13</td>\n",
       "      <td>2001-2005</td>\n",
       "    </tr>\n",
       "    <tr>\n",
       "      <th>5</th>\n",
       "      <td>98.626700</td>\n",
       "      <td>19.71390</td>\n",
       "      <td>2004</td>\n",
       "      <td>partner</td>\n",
       "      <td>2001-2005</td>\n",
       "    </tr>\n",
       "    <tr>\n",
       "      <th>7</th>\n",
       "      <td>98.474700</td>\n",
       "      <td>15.26560</td>\n",
       "      <td>2005</td>\n",
       "      <td>partner</td>\n",
       "      <td>2001-2005</td>\n",
       "    </tr>\n",
       "    <tr>\n",
       "      <th>8</th>\n",
       "      <td>102.607780</td>\n",
       "      <td>12.85811</td>\n",
       "      <td>2006</td>\n",
       "      <td>k13</td>\n",
       "      <td>2006-2010</td>\n",
       "    </tr>\n",
       "  </tbody>\n",
       "</table>\n",
       "</div>"
      ],
      "text/plain": [
       "          lon       lat  year resistance_type year_bracket\n",
       "0  102.607780  12.85811  2002             k13    2001-2005\n",
       "1  103.202003  13.10280  2002             k13    2001-2005\n",
       "5   98.626700  19.71390  2004         partner    2001-2005\n",
       "7   98.474700  15.26560  2005         partner    2001-2005\n",
       "8  102.607780  12.85811  2006             k13    2006-2010"
      ]
     },
     "execution_count": 203,
     "metadata": {},
     "output_type": "execute_result"
    }
   ],
   "source": [
    "malaria_concat.head()"
   ]
  },
  {
   "cell_type": "markdown",
   "metadata": {},
   "source": [
    "## Export to CSV"
   ]
  },
  {
   "cell_type": "code",
   "execution_count": 204,
   "metadata": {
    "collapsed": true
   },
   "outputs": [],
   "source": [
    "malaria_concat.to_csv(\"data/malaria_concat.csv\", index=False)"
   ]
  }
 ],
 "metadata": {
  "kernelspec": {
   "display_name": "Python 2",
   "language": "python",
   "name": "python2"
  },
  "language_info": {
   "codemirror_mode": {
    "name": "ipython",
    "version": 2
   },
   "file_extension": ".py",
   "mimetype": "text/x-python",
   "name": "python",
   "nbconvert_exporter": "python",
   "pygments_lexer": "ipython2",
   "version": "2.7.13"
  }
 },
 "nbformat": 4,
 "nbformat_minor": 2
}
